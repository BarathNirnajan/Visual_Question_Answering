{
  "nbformat": 4,
  "nbformat_minor": 0,
  "metadata": {
    "colab": {
      "name": "resize_and_vocabs_final.ipynb",
      "provenance": [],
      "collapsed_sections": []
    },
    "kernelspec": {
      "name": "python3",
      "display_name": "Python 3"
    },
    "language_info": {
      "name": "python"
    }
  },
  "cells": [
    {
      "cell_type": "code",
      "metadata": {
        "id": "r2I0TkS8NNZ8"
      },
      "source": [
        "!rm -r /content/sample_data/"
      ],
      "execution_count": null,
      "outputs": []
    },
    {
      "cell_type": "code",
      "metadata": {
        "id": "LWKPK2AGLXdZ"
      },
      "source": [
        "!mkdir -p /content/dataset/original/Questions\n",
        "!mkdir -p /content/dataset/original/Annotations\n",
        "!mkdir -p /content/dataset/original/Images\n",
        "\n",
        "!mkdir -p /content/dataset/preprocessed/Questions\n",
        "!mkdir -p /content/dataset/preprocessed/Annotations\n",
        "!mkdir -p /content/dataset/preprocessed/Images"
      ],
      "execution_count": null,
      "outputs": []
    },
    {
      "cell_type": "code",
      "metadata": {
        "colab": {
          "base_uri": "https://localhost:8080/"
        },
        "id": "JC4S6YkPOlYw",
        "outputId": "6d051ce5-8b63-4cb0-eec5-74a6fb267f36"
      },
      "source": [
        "# Annotations \n",
        "!wget https://s3.amazonaws.com/cvmlp/vqa/mscoco/vqa/v2_Annotations_Train_mscoco.zip\n",
        "!unzip v2_Annotations_Train_mscoco.zip -d /content/dataset/original/Annotations && rm v2_Annotations_Train_mscoco.zip\n",
        "\n",
        "!wget https://s3.amazonaws.com/cvmlp/vqa/mscoco/vqa/v2_Annotations_Val_mscoco.zip\n",
        "!unzip v2_Annotations_Val_mscoco.zip -d /content/dataset/original/Annotations && rm v2_Annotations_Val_mscoco.zip\n",
        "\n",
        "# Questions\n",
        "!wget https://s3.amazonaws.com/cvmlp/vqa/mscoco/vqa/v2_Questions_Train_mscoco.zip\n",
        "!unzip v2_Questions_Train_mscoco.zip -d /content/dataset/original/Questions && rm v2_Questions_Train_mscoco.zip\n",
        "\n",
        "!wget https://s3.amazonaws.com/cvmlp/vqa/mscoco/vqa/v2_Questions_Val_mscoco.zip\n",
        "!unzip v2_Questions_Val_mscoco.zip -d /content/dataset/original/Questions && rm v2_Questions_Val_mscoco.zip\n",
        "\n",
        "!wget https://s3.amazonaws.com/cvmlp/vqa/mscoco/vqa/v2_Questions_Test_mscoco.zip\n",
        "!unzip v2_Questions_Test_mscoco.zip -d /content/dataset/original/Questions && rm v2_Questions_Test_mscoco.zip"
      ],
      "execution_count": null,
      "outputs": [
        {
          "output_type": "stream",
          "text": [
            "--2021-07-02 13:24:08--  https://s3.amazonaws.com/cvmlp/vqa/mscoco/vqa/v2_Annotations_Train_mscoco.zip\n",
            "Resolving s3.amazonaws.com (s3.amazonaws.com)... 52.217.173.72\n",
            "Connecting to s3.amazonaws.com (s3.amazonaws.com)|52.217.173.72|:443... connected.\n",
            "HTTP request sent, awaiting response... 200 OK\n",
            "Length: 21708861 (21M) [application/zip]\n",
            "Saving to: ‘v2_Annotations_Train_mscoco.zip’\n",
            "\n",
            "v2_Annotations_Trai 100%[===================>]  20.70M  22.4MB/s    in 0.9s    \n",
            "\n",
            "2021-07-02 13:24:10 (22.4 MB/s) - ‘v2_Annotations_Train_mscoco.zip’ saved [21708861/21708861]\n",
            "\n",
            "Archive:  v2_Annotations_Train_mscoco.zip\n",
            "  inflating: /content/dataset/original/Annotations/v2_mscoco_train2014_annotations.json  \n",
            "--2021-07-02 13:24:12--  https://s3.amazonaws.com/cvmlp/vqa/mscoco/vqa/v2_Annotations_Val_mscoco.zip\n",
            "Resolving s3.amazonaws.com (s3.amazonaws.com)... 52.216.152.6\n",
            "Connecting to s3.amazonaws.com (s3.amazonaws.com)|52.216.152.6|:443... connected.\n",
            "HTTP request sent, awaiting response... 200 OK\n",
            "Length: 10518930 (10M) [application/zip]\n",
            "Saving to: ‘v2_Annotations_Val_mscoco.zip’\n",
            "\n",
            "v2_Annotations_Val_ 100%[===================>]  10.03M  13.5MB/s    in 0.7s    \n",
            "\n",
            "2021-07-02 13:24:13 (13.5 MB/s) - ‘v2_Annotations_Val_mscoco.zip’ saved [10518930/10518930]\n",
            "\n",
            "Archive:  v2_Annotations_Val_mscoco.zip\n",
            "  inflating: /content/dataset/original/Annotations/v2_mscoco_val2014_annotations.json  \n",
            "--2021-07-02 13:24:14--  https://s3.amazonaws.com/cvmlp/vqa/mscoco/vqa/v2_Questions_Train_mscoco.zip\n",
            "Resolving s3.amazonaws.com (s3.amazonaws.com)... 52.216.152.6\n",
            "Connecting to s3.amazonaws.com (s3.amazonaws.com)|52.216.152.6|:443... connected.\n",
            "HTTP request sent, awaiting response... 200 OK\n",
            "Length: 7239401 (6.9M) [application/zip]\n",
            "Saving to: ‘v2_Questions_Train_mscoco.zip’\n",
            "\n",
            "v2_Questions_Train_ 100%[===================>]   6.90M  11.1MB/s    in 0.6s    \n",
            "\n",
            "2021-07-02 13:24:15 (11.1 MB/s) - ‘v2_Questions_Train_mscoco.zip’ saved [7239401/7239401]\n",
            "\n",
            "Archive:  v2_Questions_Train_mscoco.zip\n",
            "  inflating: /content/dataset/original/Questions/v2_OpenEnded_mscoco_train2014_questions.json  \n",
            "--2021-07-02 13:24:16--  https://s3.amazonaws.com/cvmlp/vqa/mscoco/vqa/v2_Questions_Val_mscoco.zip\n",
            "Resolving s3.amazonaws.com (s3.amazonaws.com)... 52.217.69.230\n",
            "Connecting to s3.amazonaws.com (s3.amazonaws.com)|52.217.69.230|:443... connected.\n",
            "HTTP request sent, awaiting response... 200 OK\n",
            "Length: 3494929 (3.3M) [application/zip]\n",
            "Saving to: ‘v2_Questions_Val_mscoco.zip’\n",
            "\n",
            "v2_Questions_Val_ms 100%[===================>]   3.33M  7.54MB/s    in 0.4s    \n",
            "\n",
            "2021-07-02 13:24:17 (7.54 MB/s) - ‘v2_Questions_Val_mscoco.zip’ saved [3494929/3494929]\n",
            "\n",
            "Archive:  v2_Questions_Val_mscoco.zip\n",
            "  inflating: /content/dataset/original/Questions/v2_OpenEnded_mscoco_val2014_questions.json  \n",
            "--2021-07-02 13:24:17--  https://s3.amazonaws.com/cvmlp/vqa/mscoco/vqa/v2_Questions_Test_mscoco.zip\n",
            "Resolving s3.amazonaws.com (s3.amazonaws.com)... 52.217.69.230\n",
            "Connecting to s3.amazonaws.com (s3.amazonaws.com)|52.217.69.230|:443... connected.\n",
            "HTTP request sent, awaiting response... 200 OK\n",
            "Length: 8966943 (8.6M) [application/zip]\n",
            "Saving to: ‘v2_Questions_Test_mscoco.zip’\n",
            "\n",
            "v2_Questions_Test_m 100%[===================>]   8.55M  13.9MB/s    in 0.6s    \n",
            "\n",
            "2021-07-02 13:24:18 (13.9 MB/s) - ‘v2_Questions_Test_mscoco.zip’ saved [8966943/8966943]\n",
            "\n",
            "Archive:  v2_Questions_Test_mscoco.zip\n",
            "  inflating: /content/dataset/original/Questions/v2_OpenEnded_mscoco_test2015_questions.json  \n",
            "  inflating: /content/dataset/original/Questions/v2_OpenEnded_mscoco_test-dev2015_questions.json  \n"
          ],
          "name": "stdout"
        }
      ]
    },
    {
      "cell_type": "code",
      "metadata": {
        "id": "rKPJXvxXt6w6"
      },
      "source": [
        "import json\n",
        "import os \n",
        "import re\n",
        "from collections import defaultdict\n",
        "\n",
        "src_dir = \"/content/dataset/original\"\n",
        "des_dir = \"/content/dataset/preprocessed\"\n",
        "\n",
        "top_answer = 1000\n",
        "\n",
        "def make_q_vocab():\n",
        "\n",
        "  dataset = os.listdir(src_dir + '/Questions') # os.listdir returns a list of all entries in the directory\n",
        "  regex = re.compile(r'\\W+') # \\W matches any non-alphanumeric character; \n",
        "                             # this is equivalent to the class [^a-zA-Z0-9_]; \n",
        "                             # + for one or more\n",
        "\n",
        "  q_vocab = []\n",
        "\n",
        "  for file in dataset:\n",
        "    path = os.path.join(src_dir, 'Questions', file)\n",
        "\n",
        "    try:\n",
        "      with open(path, 'r') as f:\n",
        "        print(f)\n",
        "        q_data = json.load(f)\n",
        "      question = q_data['questions'] # list of questions type(q_data['questions']) == list of dict.\n",
        "                                     # questions {'question_id', 'image_id', 'question'}\n",
        "    except(IOError, SyntaxError):\n",
        "      break\n",
        "\n",
        "    for idx, quest in enumerate(question):\n",
        "      split = regex.split(quest['question'].lower()) # split on non-alphanumeric character (such as: spaces, ?, ...etc)\n",
        "      tmp = [w.strip() for w in split if len(w.strip()) > 0 ] # removing both the leading and the trailing characters\n",
        "                                                              # space is the default leading character to remove\n",
        "      q_vocab.extend(tmp) # x = [1, 2, 3]\n",
        "                          # x.extend([4, 5]) >> [1, 2 ,3 ,4, 5]   ; iterable element\n",
        "                          # x.append([4, 5]) >> [1, 2, 3, [4, 5]] ; object\n",
        "    \n",
        "  q_vocab = list(set(q_vocab)) # sets, unlike lists or tuples, \n",
        "                                 # cannot have multiple occurrences of the same element and store unordered values\n",
        "  q_vocab.sort()\n",
        "  q_vocab.insert(0, '<pad>')\n",
        "  q_vocab.insert(1, '<unk>')\n",
        "\n",
        "  if not os.path.exists(des_dir): \n",
        "    os.makedirs(des_dir)\n",
        "  with open(des_dir + '/Questions/question_vocabs.txt', 'w') as f:\n",
        "    f.writelines([v+'\\n' for v in q_vocab])\n",
        "\n",
        "  print(f\"total word:{len(q_vocab)}\")\n"
      ],
      "execution_count": null,
      "outputs": []
    },
    {
      "cell_type": "markdown",
      "metadata": {
        "id": "nsdHXKVrvGGl"
      },
      "source": [
        "![image.png](data:image/png;base64,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)\n",
        "\n",
        "```\n",
        "quest['question'] >>> \n",
        "What is this photo taken looking through?\n",
        "\n",
        "regex.findall(quest['question'].lower()) >>> \n",
        "[' ', ' ', ' ', ' ', ' ', ' ', '?']\n",
        "\n",
        "regex.split(quest['question'].lower()) >>> \n",
        "['what', 'is', 'this', 'photo', 'taken', 'looking', 'through', '']\n",
        "```\n",
        "\n"
      ]
    },
    {
      "cell_type": "markdown",
      "metadata": {
        "id": "aPszTHjn_wGj"
      },
      "source": [
        "**len(q_data ['questions']) == 10739**\n",
        "\n",
        "**q_data ['questions'][0]**\n",
        "```\n",
        "{\n",
        "  'image_id': 262144, \n",
        "  'question': 'What credit card company is on the banner in the background?',\n",
        "  'question_id': 262144005\n",
        "}\n",
        "```\n",
        "\n"
      ]
    },
    {
      "cell_type": "code",
      "metadata": {
        "id": "-5Lf04393-RJ"
      },
      "source": [
        "def make_a_vocab(top_answer):\n",
        "\n",
        "  answers = defaultdict(lambda :0)\n",
        "  dataset = os.listdir(src_dir + '/Annotations')\n",
        "\n",
        "  for file in dataset:\n",
        "    path = os.path.join(src_dir, 'Annotations', file)\n",
        "\n",
        "    try:\n",
        "      with open(path, 'r') as f:\n",
        "        data = json.load(f)\n",
        "    except(IOError, SyntaxError):\n",
        "      break\n",
        "\n",
        "    annotations = data['annotations']\n",
        "    for entry in annotations:\n",
        "      vocab = entry['multiple_choice_answer']\n",
        "      if re.search(r'[^\\w\\s]', vocab): \n",
        "        continue\n",
        "      answers[vocab] += 1\n",
        "\n",
        "  # sort by max value to keep top-1000-answers occuring\n",
        "  answers = sorted(answers, key=answers.get, reverse=True)\n",
        "  # adding the <unk> answer as the first element in our answer-vocab\n",
        "  top_answers = ['<unk>'] + answers[:top_answer-1]\n",
        "  with open(des_dir + '/Annotations/annotation_vocabs.txt', 'w') as f :\n",
        "    f.writelines([ans+'\\n' for ans in top_answers])\n",
        "\n",
        "  print(f'The number of total words of answers: {len(answers)}')\n",
        "  print(f'Keep top {top_answers} answers into vocab' )"
      ],
      "execution_count": null,
      "outputs": []
    },
    {
      "cell_type": "markdown",
      "metadata": {
        "id": "qKpCMbX15fsf"
      },
      "source": [
        "![image.png](data:image/png;base64,iVBORw0KGgoAAAANSUhEUgAABBoAAAGiCAYAAABJfaXgAAAgAElEQVR4AeydvU8bSxeH3xrxRyCqKFVSRbdCVEmFqKAjFaKCDioiFxQUgFIYicJIKVwg4QIJF0hOBRSRlQJZFAFRYIkCpBQuUrigOK/248zMrtf2GtbYhudKV7bx7Hw8M97M+e05Z/4n/AcBCEAAAhCAAAQgAAEIQAACEIAABDIi8L+M6qEaCEAAAhCAAAQgAAEIQAACEIAABCAgCA0sAghAAAIQgAAEIAABCEAAAhCAAAQyI4DQkBlKKoIABCAAAQhAAAIQgAAEIAABCEAAoYE1AAEIQAACEIAABCAAAQhAAAIQgEBmBBAaMkNJRRCAAAQgAAEIQAACEIAABCAAAQggNLAGIAABCEAAAhCAAAQgAAEIQAACEMiMAEJDZiipCAIQgAAEIAABCEAAAhCAAAQgAAGEBtYABCAAAQhAAAIQgAAEIAABCEAAApkRQGjIDCUVQQACEIAABCAAAQhAAAIQgAAEIIDQwBqAAAQgAAEIQAACEIAABCAAAQhAIDMCCA2ZoaQiCEAAAhCAAAQgAAEIQAACEIAABBAaWAMQgAAEIAABCEAAAhCAAAQgAAEIZEYAoSEzlFQEAQhAAAIQgAAEIAABCEAAAhCAAEIDawACEIAABCAAAQhAAAIQgAAEIACBzAggNGSGkoogAAEIQAACEIAABCAAAQhAAAIQQGhgDUAAAhCAAAQgAAEIQAACEIAABCCQGQGEhsxQUhEEIAABCEAAAhCAAAQgAAEIQAACCA2sAQhAAAIQgAAEIAABCEAAAhCAAAQyI4DQkBlKKoIABCAAAQhAAAIQgAAEIAABCEAAoYE1AAEIQAACEIAABCAAAQhAAAIQgEBmBBAaMkNJRRCAAAQgAAEIQAACEIAABCAAAQggNLAGIAABCEAAAhCAAAQgAAEIQAACEMiMAEJDZiipCAIQgAAEIAABCEAAAhCAAAQgAAGEBtYABCAAAQhAAAIQgAAEIAABCEAAApkRQGjIDCUVQQACEIAABCAAAQhAAAIQgAAEIIDQwBqAAAQgAAEIQAACEIAABCAAAQhAIDMCCA2ZoaQiCEAAAhCAAAQgAAEIQAACEIAABBAaWAMQgAAEIAABCEAAAhCAAAQgAAEIZEYAoSEzlFQEAQhAAAIQgAAEIAABCEAAAhCAAEIDawACEIAABCAAAQhAAAIQgAAEIACBzAggNGSGkoogAAEIQAACEIAABCAAAQhAAAIQQGhgDUAAAhCAAAQgAAEIQAACEIAABCCQGQGEhsxQUhEEIAABCEAAAhCAAAQgAAEIQAACCA2sAQhAAAIQgAAEIAABCEAAAhCAAAQyI4DQkBlKKoIABCAAAQhAAAIQgAAEIAABCEAAoYE1AAEIQAACEIAABCAAAQhAAAIQgEBmBBAaMkNJRRCAAAQgAAEIQAACEIAABCAAAQggNLAGIAABCEAAAhCAAAQgAAEIQAACEMiMAEJDZiipCAIQgAAEIAABCEAAAhCAAAQgAAGEBtYABCAAAQhAAAIQgAAEIAABCEAAApkRQGjIDCUVQQACEIAABCAAAQhAAAIQgAAEIIDQwBqAAAQgAAEIQAACEIAABCAAAQhAIDMCCA2ZoaQiCEAAAhCAAAQgAAEIQAACEIAABBAaWAMQgAAEIAABCEAAAhCAAAQgAAEIZEYAoSEzlFQEAQhAAAIQgAAEIAABCEAAAhCAAEIDawACEIAABCAAAQhAAAIQgAAEIACBzAggNGSGkoogAAEIQAACEIAABCAAAQhAAAIQQGhgDUAAAhCAAAQgAAEIQAACEIAABCCQGQGEhsxQUhEEIAABCEAAAhCAAAQgAAEIQAACCA2sAQhAAAIQgAAEIAABCEAAAhCAAAQyI4DQkBlKKoIABCAAAQhAAAIQgAAEIAABCEAAoYE1AAEIQAACEIAABCAAAQhAAAIQgEBmBBAaMkNJRRCAAAQgAAEIQAACEIAABCAAAQggNLAGIAABCEAAAhCAAAQgAAEIQAACEMiMAEJDZiipCAIQgAAEIAABCEAAAhCAAAQgAAGEBtYABCAAAQhAAAIQgAAEIAABCEAAApkRQGjIDCUVQQACEIAABCAAAQhAAAIQgAAEIIDQwBqAAAQgAAEIQAACEIAABCAAAQhAIDMCCA2ZoaQiCEAAAhCAAAQgAAEIQAACEIAABBAaWAMQgAAEIAABCEAAAhCAAAQgAAEIZEYAoSEzlFQEAQhAAAIQgAAEIAABCEAAAhCAAEIDawACEIAABCAAAQhAAAIQgAAEIACBzAggNGSGkoogAAEIQAACEIAABCAAAQhAAAIQQGhgDUAAAhCAAAQgAAEIQAACEIAABCCQGQGEhsxQUhEEIAABCEAAAhCAAAQgAAEIQAACCA2sAQhAAAIQgAAEIAABCEAAAhCAAAQyI4DQkBlKKoIABCAAAQhAAAIQgAAEIAABCEAAoYE1AAEIQAACEIAABCAAAQhAAAIQgEBmBBAaMkNJRRCAAAQgAAEIQAACEIAABCAAAQggNLAGIAABCEAAAhCAAAQgAAEIQAACEMiMAEJDZiipCAIQgAAEIAABCEAAAhCAAAQgAAGEBtYABCAAAQhAAAIQgAAEIAABCEAAApkRQGjIDCUVQQACEIAABCAAAQhAAAIQgAAEIIDQwBqAAAQgAAEIQAACEIAABCAAAQhAIDMCCA2ZoaQiCEAAAhCAAAQgAAEIQAACEIAABBAaWAMQgAAEIAABCEAAAhCAAAQgAAEIZEYAoSEzlFQEAQhAAAIQgAAEIAABCEAAAhCAAEIDawACEIAABCAAAQhAAAIQgAAEIACBzAggNGSGkoogAAEIQAACEIAABCAAAQhAAAIQQGhgDUAAAhCAAAQgAAEIQAACEIAABCCQGYEXEhrq8nt7STbfjUtubFwOqpn1n4ogAAEIQAACEIAABCAAAQhAAAIQGCICLyA0NOT38qQvMHgiA0LDEM0+XYEABCAAAQhAAAIQgAAEIAABCGRMoP9Cw0NJ8r7AMC/lWkMeMx4A1UEAAhCAAAQgAAEIQAACEIAABCAwPAT6LzRUdwJvhuWK/BuecdMTCEAAAhCAAAQgAAEIQAACEIAABPpA4OWEhm0SM/Rh/qgSAhCAAAQgAAEIQAACEIAABCAwVAQQGoZqOugMBCAAAQhAAAIQgAAEIAABCEBgtAm8gNDwLQidwKNhtFcKvYcABCAAAQhAAAIQgAAEIAABCKQg0GehoS4/F4ITJ74X6ym6QxEIQAACEIAABCAAAQhAAAIQgAAERplAn4SGBzmfC46yzI1NysbCvtw0RxkTfYcABCAAAQhAAAIQgAAEIAABCEAgDYEXEBrGZWMOoSHNZFAGAhCAAAQgAAEIQAACEIAABCAw6gT6JDQoFhs6sUXohELhFQIQgAAEIAABCEAAAhCAAAQg8GoJ9FloEJEqySBf7ephYBCAAAQgAAEIQAACEIAABCAAgRiBFxAadjh1IgadjxCAAAQgAIH+EKjL7+0l2XwX5Ek6qPanFWqFAAQgAAEIQAACnQggNHSiw3cQgAAEIACBngjU5XzxveQmvsjBaaOnK59fuCG/l4OTnnJjCA3P50kNEIAABCAAAQg8lcDLCQ2rZ/L41F5yHQQgAAEIQCAVgYbcHu5KYW5ajjJ6mv/4cCYnq0uytViWv936UC/K99DIz82VupfvVl8v3z+UJO+3PS/lWoN/c3thR1kIQAACEIAABDIl0H+hoV6ULW/jM/FVTq5e+ulOpqyoDAIQgAAEhp5AVQ4yfpr/93A+CAFMJRxYj4YflYeXpVUNQxWXK/LvZVumNQhAAAIQgAAEIBAh0H+hQR7kfC5w4cSVM8KeDxCAAAQgkDmBQQsNmQ8ofYUqNGxn5MqRvmVKQgACEIAABCAAgQiBFxAaRKR5Lb9IThUBzwcIQAACo0TAPNXXsICxcdmYmpdCoSqur9qfbc0N0JDLvCYlnJSNmTX5XXdG7BjFjequ7E29D7wGPsxKseIWDK75d1WWg8Vp2Qjbj7ed1D8Vt4PXHfljmrdihCkz8VG2Fnfk11UzLJVQxhm7d13+0PFY0PG4Zdoa/A9yWViR7x/CfAotbYuIhkHMleTuqiTFmY8Bn3fTsleoifbSDMl7o31o226kNB8gAAEIQAACEIBA3wi8jNDQt+5TMQQgAAEIvASBTob8Zr5muqBCQ24impTQN+hninKvJdUoTio3Nisnjtbw93jJCAxGGFCDfiHIm9Cpf8E1XYQGrW9iRX77ykmfhIZmVUqfE9j47U9LqRZKCCo0JPKZlOJpgtTAcdK6uniFAAQgAAEIQGDABBAaBjwBNA8BCEBgVAn8O14JnrJ/2pXbcBBGaBiblO/5mp8r4LG2I5u+IT0v5+oEoEKD9/eZXbnxjfualD4FHhHGW6BRkR8Twd82t8/C3ANN+Vv5FtY5KdEjHK1AEP17F8rNmpQ/B+0UKq6PhogRMVLlaBAxDBI8C+4K0wGzia/ysx6IBY+NmpwshOKDtqFCg8dnakV++cLLg5wvBn3MtdRdl59hHd+LjkrTZdh8DQEIQAACEIAABPpBAKGhH1SpEwIQgMArJNA43fdPc9DwBetdYL0F1MjeXK867v1q/CcIDZ++yaXzcF6vV6Hh8XQtMMzH1uTCKSdSl59h/h/Xo0JE2xqPCRCxCWkEIX1bGr7gCyExkSO8JDuhoS4noZixFRcD1BthLPSoMELDvPx0dAPTFyM0uHmQJmVjYV9uIpxi4+YjBCAAAQhAAAIQeAECCA0vAJkmIAABCIw2gabcbIdP4h2DvJPQoEJBMG41/hOEBn2CHwKKCw3GsI6V84pfric93de2OggND2XZC70k7BjCuuK5FyRLj4YOfauXwmMxQ0ZGaLAijjdmwyNRaBiXjTmEhnAp8QIBCEAAAhCAwAAJIDQMED5NQwACEBgJAo2KFHyBYVL2Dq+tp4IJf7DGcFwoCManBnbvQkMnj4Zk7wBtq73QcJv/L/CSmNqRy4Y+/reeAVGRxDHuE8SOpPlTBknhDcl9FmkZZ2qhQXtgQydavCW0CK8QgAAEIAABCEDghQggNLwQaJqBAAQgMLIEjNH7nxycBvkLHh/OpDSjSQ37JzSY0xfGxsXN0XB/+DUMqZiW8pVLtiZHYZ6HzXXN6eB+7+RQmNPklA25PVwJcz7ETpMQkX+VMBfFWDSMIVqr/dReaPDaDplFcjScycFU6FGxXAnyUBjmlq3XQqtHg21XNPzCeDs43/EWAhCAAAQgAAEIvCABhIYXhE1TEIAABEaTQF1OZmxogQk3MCciWGNYjeyoV4B6GfTu0SDSOWxjc9vNBeHRbcqf7dBjIRLmYfv4ePotFCliYwrHE+27c9RkpL6oIKHjNmxiZU1iyk5hGxNf5VzzMTxJaNgJxoXQMJo/M3oNAQhAAAIQeEUEEBpe0WQyFAhAAAJ9I9CoytHCx8CQnfgo35f35fLhTA58g9oa8WpwR4315wgN3oiacl/Zlb3PYftjk7IxsyLl0wd5TBxwXX5vL8nmO1dIsH306rs7XJOt8PuNqSU5OL6W28N5f3zRvgcN/KsVpTCj7Qf1uuV03F2FBq8675SJ1Xnbv3fTsrddllv3sAuEhsSZ5Y8QgAAEIAABCIwGAYSG0ZgnegkBCEAAAhDoTEBzZqyetRFgOl/OtxCAAAQgAAEIQCArAggNWZGkHghAAAIQgMAgCdSLsuV5mEx8lZMr1z1ikJ2ibQhAAAIQgAAE3iIBhIa3OOuMGQIQgAAEXiEBe3KGhnCY3BCvcLQMCQIQgAAEIACB4SWA0DC8c0PPIAABCEAAAr0RaF7LLyc/BUJDb/goDQEIQAACEIBANgQQGrLhSC0QgAAEIAABCEAAAhCAAAQgAAEIiEgfhQbNMj4u/hMVk0HbOd4sMgV1OV98L7mJL+ac9sjXT/3QqEp5eVY2Jpzs4084+sucXT5Xkr/inMP+hLqeOpS01zWrO7I1MS4bc0W5S3tR13JNuTvekb2p986xcO3msmtlFIAABCAAAQhAAAIQgAAEIACBV0pgeISGelG+67njoTH/bOaNihRcgUHrf4I4MDpCQ1MuV62okpXb7G1+2hEYtH6EhmevUSqAAAQgAAEIQAACEIAABCDwygj0UWjQpFRf5KTuHYN+JsXYeetRltaj4UflIfrVEz8ZceDTmvx+bpWxY8Puil/anrf+xO5mdpn1aNiX22YW1VblIBRs8oVr+ZdFldQBAQhAAAIQgAAEIAABCEAAAq+SwAsIDfrUW0MpduTPC6H8sx0+eX+CB0NLF1VoCOtSESN/+FwFo6Wl4ftD17CX4esyPYIABCAAAQhAAAIQgAAEIACBwRDoo9DQkN/LnqEfExo+7cqtO1Y14DWswXtNEga03HZVGtVdmyvgw6wUK57LROt/aYSGx4ezaA6HD19kb7ssd3FPgNqubDp9U6GhUHnmWeXNqhzNBLkpStV4o61jav8X9SDRsAaXvXuVlpuX86trOV/V/BXvZXNxX26SupBKaGjIbSSHw3vZnFuRcvWZfNyu8x4CEIAABCAAAQhAAAIQgAAEhp5AH4WGlGNXASGt0DAxmZArYDYIz/CaTKrPrdsIHyIaYqDnjUdep3aSje6Uw0pbrHG8ZMfzrNwUKiCkFRomJZeUv2L9TB79zifV59btCkJh2EuEs5adlL3jN+D1kXbCKQcBCEAAAhCAAAQgAAEIQOCVExi80OAA7uiB4AoIM7ty4z8or0npU2DQmhAGt1yi4aseFtdSngqN4YWS3IdP8v/VirKn+QheIiwiM48GB2RHDwRXQJiWH8d1X1iwgoeGtrjlVDSIvYaeJ/8qK6FYMu2fGOILFc0HuVgPE0hOaJ1OH3kLAQhAAAIQgAAEIAABCEAAAq+SwOgJDZ++yaXj3q/ihBEanGnS7xJDMepF2fKFiDBZpXPd5XpoUC9XRjPxYUqhIX/ohJyYaxJEAfOdijQOLGnKhZ5ysareEOH39VJ4ksh/clRzr+E9BCAAAQhAAAIQgAAEIAABCLxWAqMnNMTCC1RM6FloMJ4PrYa15l/IxdoamUXQURiwngqRoy/NNa08xHyXJDTY+lrnQBOAjkukrZEBSUchAAEIQAACEIAABCAAAQhAoFcCb1doaOvR0OEJfa90B1U+pTAQMf7NNb0KDR14tWUsIvWy7L0bl9y7JTl3HCsGhYx2IQABCEAAAhCAAAQgAAEIQCAbAm9XaJCqHGgyRDdHw+lOcLrE2KT8eO6JEmnmaIA5GrIRGkSMB8iYm6OhLj8XwsSdU/tyF2Nxk3+fURLMWMV8hAAEIAABCEAAAhCAAAQgAIGBEhi40KChD5ETH5wkjsYY1lCHWDiDXt/qti+i3yXmaBCRv8dfrbHrtOn3ZaEkf19gamwSxnF5VqiG8UiIJWzUcRluNtTBsPXGaa7v1aNBRJo1KWliTW3PvE7LQdKxnfWSSbqZG0to8wXY0wQEIAABCEAAAhCAAAQgAAEIZE/gTQsNHs5GrSjFuWnZCA3jjaklOTi+frkkkFl5NBihYABCgweyWZeL/JJsfQi9GCY+yvflfbnscLKl8YT4tCu32a9taoQABDIlEMu5Yu45SblbMm14KCrT45A35ootHlpD0UGvE82qlD5PSu7dvPy8StsrKz5HBHsV90Mh2NyvjWidtv4XKPekcb9Av2gCAhCAAAQg8IYJDFxoeMPs3/TQm/WKFEMviM08R1K86cXA4EeEwOsTGv7VSlJanpfNfLXLHDTlUk/XGRve5LaPp2vWSy88frjLwDx3NjmfCwTqURUanjbu9mTSr4v2dfANBCAAAQhA4K0TQGh46yvgpcdvnoKGnhczu3LjHFf60t2hPQhAIC0BNUjDI4GbZ1L0PcFGN/SpW3idS8Z6NOzL7bDes5wn+ye1tJ3UeR2XiNCg9+rPgQeHMeZTCxguvT6/f9K42/epl3XRvha+gQAEIAABCLxtAggNb3v+X370/uZ1UjY+v3CIysuPlBYh8MoIqEGqoRLq4fA2hIZXNpnOcHRe2wgNGiqhoRTDKDQ4o8niLUJDFhSpAwIQgAAE3joBhIa3vgIYPwQgAIFUBBrye9nzRIoJDQk5Vh4fzqTshSR4R9h6Xg/vpiU/Ny9bU0tyHuZtSY75b2P0ikhQ56xshKcFtcun44VlRduelULhTBo6Rn1SbxLWhn10PttEubY/NmGxjl8rtK/xPuY+fJG97bLcuc4FjsHeqO7K3lR4As+HWSlWnnbWr2HpjCHinWC76IdKXBZWJK/tTrw3TCPXNCpS8OqLCQ3PDnXLKi+Rl9D5cN6GioRjj4whHLcKBwfVhlzml8J1OSkbM2vyW5H3tC4iQPkAAQhAAAIQgEACAYSGBCj8CQIQgAAEnkZAQwysYe4a8tZIN0aiGrJ+c9awjxiMkVNq3PrGZXO7Jo/a1dpueDxxtIzXF1NfTwal7Y8djx2DNuu9dhz31I4NEVOhYSJMnOuIA7mxWTlRw9etvMt7w9Kpy4zXvVZDDJxydlwOI/eajN9ndtLSE4SGXBLzmaLce2PsaV1kDIXqIAABCEAAAq+QAELDK5xUhgQBCEBgMATqcjITGvkLRblVN4J6Ub77xq010o1x3FVoaMivRa/O/6RYeTCiQvOqKHm/zhX5HbZj6pxycr80G3JX2ZWD49YjcPRJd7sjkCMMjSFqx2C/v5ayHvG7UJL70IPhX61ojvE1hr8KDV7fvRw1ft9rUvoUcDPlbOU9vLPCSFI998XZwANg4quc1Bohy7r8TEoG2UOrPRXN0KPBttt53Gaexyble77mnyr1WNsJRanW+TTl30CYiGXIOwhAAAIQgEC2BBAasuVJbRCAAATeLoF6KRQUwoSRSiLBSDeiQDehQV342zyF957Ia6jD4+k360r/eUlKhxW5rTeNOKHd0deeDMqEMWg9Ui/Klt+/2LhF5HI9FF6WK8GxySo0fPoml05IhfYlSSAw7XR908ngtoLCVtF1m+h0TdcGh6RA5zEo2831qljkmmMEoWFIJpFuQAACEIDAKyOA0PDKJpThQAACEBgYATWix77JpduJBCM9tdBgrg0N9gTBQYUGkabcHa7JluaG0LIfvko54RQGNUCf7dFgxt2aGLNlnFo2IrCIaF/6JzSoYW2FmWCKOhvp7jQO7/vOY0hmqzwQGoZ3XukZBCAAAQiMMgGEhlGePfoOAQhAYJgImBwJX03SR797qUMnrqX8ORZCYISGefnpPojvMu7mw7VcFNckr6LDRNSDwLtcDdBnCw1tPRqacrEaCiSrZ4FnxcCEhpocheEZe5EwEuvp8DyRo8uE9PXrwQkNf4+XZGNsXDYWy/K3r2OkcghAAAIQgMBoEUBoGK35orcQgAAEhpdA80yKoRdBvlj3DevHh4oUNX+BObFCRNTgnliTCy9PQeNaThbDExjc5I1iDeScn/fBOr/HQfw93pGj45rcN2yZxvFKGE7R+uT6Nv9f8J0XxqD5JOKV6mdH8NCTM/QrkaochKdh5NwcDaeaB2BSflTCBnTcL+7R4Igec2ECRHmQi/VpE27yIkLDAHM0RMfX3qMh/bqoyZEKWZE1a1cG7yAAAQhAAAJvlQBCw1udecYNAQhAoA8EbvPWcDUnGphs/46x7+VeUONcQxzGJmXjXXAag2sUeic6bJoysRAKx2A3YQpJZRdanzg/tqnXhGIYcSHWptbvtn381RjsZtxabqFkn3ZnLjTYp/kt7frtO8yNx4k7nknZnAoEF5d5H5aGX2V2p06kH7d6rkTH115o6LouHDh/D515J3mkQ4a3EIAABCDw1gkgNLz1FcD4IQABCGRKoCGX+SXZ9J/0TsrGwo78uqrIQdzo9Y6ErO1L/kN4zOOHr3JwfC13h/O+wR41CkX+XZXlYPGLbMTFCcfYF3mQy8KK5KfUM2JSNj7PS6FwJu0cFu4rO7JnygcG+FOEBg9ho1aU4ty070rvGf0bU0v+mP65fAcpNHh9rO6a8Xr9Ozp9kPs2zN1uZ/Y+M4+G/gkN3lg7rosIDBt6spmvRb7hAwQgAAEIQOAtE0BoeMuzz9ghAAEIvAQB4xngPF1/iXZpAwJ9JdCU+8q30NtmWo7QGfpKm8ohMGwEHusVOVhUcbk1GfCw9Zf+QOClCSA0vDRx2oMABCDw1gggNLy1GX/1442G6UzK93zNOTrz1Q+fAUIAAi3hfwgNLAoIxAkgNMSJ8BkCEIAABLIlgNDQE8+oEevmU4i/Z2PbE9gMC/tzNPFRtha90KB2gTkZNkhVEIDAUBEw9+m5fbnlFjBUc0NnhocAQsPwzAU9gQAEIPA6CSA09DSvZgOrySTbviI09ASWwhCAAAQyIqBJZgt6olBG9VINBF4TAYSG1zSbjAUCEIAABCAAAQhAAAIQ6CsBFRpM8uC+tkblEBhNAn0UGvToqHHxf4S9PNHqpexoch9wr58xNwPuOc1DAAIQgAAEIAABCAyWQJLn1caUd8pPNXLKjzXIYycSzazJ73psDM26XERODnovW8v7cvmg5XT/2i6xsJ4C43zfuJZf23oS0rjkPswmnESk9a7I70ZDbgpfwxOO3svm4r7cNLV9+2rHZf/GOwhAIErg9QoNzQe5KK7J3uclOTc3qOjg+/Xp8eFMTlaXZGux9dz2frXZW716Q32CCNRbQ88s3ZDbw10pzE3LUfWZVXE5BCAAAQhAAAIQgEAmBJKEBu9YX+9/96hXNchzE+FRxm4o2ExR7k1vanI0Fc9DE342xxjrsbZf5CQuUvj16P42DCtrVuWgXZ0L7h5dr5uX4uqsPwYdi/+6fiaPpp/Bm8v1oG94NMTA8BECDoE+Cg2xm0HzTIr+zSVFTGkWHg1Z1OGA6uWtufmaG2MvV79E2WfMzUt0z7ShN/5QEDF/5w0EIAABCEAAAhCAwDAR+He8Ehjpn3blNuyYERrGgtNZ/onIY20nPBbW8VPykcgAACAASURBVDww+/ZpKdXUhaApjauKHG1bUSBq4Nfl5LNn8HueCCLinQTh2Rrh/vsm/5/fn3yhJl673n+PjTM5+ORd859zJK3db+bGJmXvsO4LC/8q4XgmduQmvN6vo16SvQmvjtk2godTmLcQeMMEXkBo0JuI/ogRGga/3lRoeMLcvGjndc0gNLwodhqDAAQgAAEIQAACXQg0Tvd9r9MN10sh9lBRhYbN9apzBKzu73QfKiLeA0nfeB+X3MQXKeRLclGrO9cEndGHefnDBxEjToyLn5RRP697brA1OfIFhcDzIOKhEPbXr8OvVvszLpvbbj9jALR+7/qJj+IJGCqJxEryEQIQEJE+Cg0N+b3s/bj1JhL+iB2VU2fACzUoL8/L5rvwZvDufei2pNd6Je1NwNwszNFS9meuNzRTJn7zc70Mqjut7lEfvsjedlnubJXazS6vCf2Lta03tPti6Jb1uSh3sVofT78FfZr4JpdeH7SP21VpVHdlbypk82FWiofXLTc4/6Y/8zEclxdblnT0Vvq5CbrXlD/5WdkYm5StTjfg2FjafWzUSnKw+CWMf/Pi5b7KwfG1UZv1H5G2czjmilUqmgTK9P3xmmz562hSNpLi/9p1ir9DAAIQgAAEIAABCKQg0JSb7enWPbTZ99p9mu7LdQ8cVK57ZnefL9K8KklxRm2A0CaIGfSPp2t+u1vFuvgeBxPzkp8bl9zqmTyGe2bvu0S7wfQvqNv2SfvT5cGWKzSMvUdoSLFSKPK2CfRRaEgHtlndkS1VMGM3ACtSeHXZm0CLAToRukyJiN7QWspo3d2EBi23XDGGb7qRdOhfWKe5oTXKsuf/zXXb8lppyuV6EMNm4ttUaEiKbRubDBTcsIN/D7+2uem7bmjpRhMpZfrrCkeREqk/GDc05ey8apzb04SGcfmxGvzjE5n7SPxf6m5SEAIQgAAEIAABCEAgiYCGKPhhBs5DL92zOg+EdF9u9sB+fbpnjgoN2tRj80HuKkUpzqnoMCnF0/AJYG03CLvYPpOL1UBg+OOFSEx8k9/HwT4wOHJS2+giHkT6k6asyKMJnWiXK0JHwisE3jaBAQsNdTmZCRXLhaLcevFV3n/1onz3DdDkG1BYSqRZk7IfmxW6TJkvxHGn6lKHe40fN7YvW37bVryIFen60RjKrqgRuSpBUPC+Nwa9E/NlbtrjsrGojBpysR7EneXUK0Kv/bQmvx/UHaMpd8X5QHzoWThxO5ydR4P+g5NbLJusxI/NuvwprslJzW3Te5/mHwn1aAjWkefy5sf/Xek8fn3xZKDxUfAZAhCAAAQgAAEIvBoC5sn+f3JwGmzePe/k0owmfHyCR8NDWQ7yZbmtN0zixcdGOci5MDYuRqhQkWPuq58nwRcV/L3ypOTnvD2vPsRT791xyU19k4t609TbOg9p9pvRq6K5IqLf8QkCEAgIDFZoqJdCQSGmCJobWEwkCI+o2fqgN7JQpHBvQDqz7erQ78PXf1flqBu/ecIeazt2XaeP3YUGL3QsVGQ/7ZoEM+Y6VxRQoeHzfjTMoqZhH4Eg0slTIHjCb2/6nfre7+9M2MjYuGzMrcnJcVXuGiqMxFtPc+N3hIaFkvyNV8FnCEAAAhCAAAQgAIEMCTgPCs2+2ctboPtzu+fUB0xGKPB7ofs7Z69t9u12b288VCfch0Y1KRlP6NB+MAnnvWudssbzIKFOx+si3YOtKD4dl3rjRr/lEwQg4BEYrNCgRvTYN7l058PcbNwbUDnM8Jp0s3CUTq0nqQ79Lnz9e9wu1MBrw2k7dl23j0YwaOvR4NWgN2lVXuOfw1aUUbwuI9IE/TRtujf8yHt70+/W//5+752jrOcT27lMzqeg/xB1cmWzQkP0H7H+joLaIQABCEAAAhCAwJsl0KjK0UKYE2zio3xf3pfLhzM58Peeds+pBnl0j6b7u+heuyW55IcvkvfrdSk/yPlCuH80ed8c74X4CRHxPHBmb2z7iNDg8uU9BLIjMFihQZ/qu+qjN7aE0Inb8Iia3NSOXJon4B2MzK5Cg81Gu7l9JrbKkuT9m1D05tcLcmP0x8WBWCX/jpeCsIbtqvVwiOcUaCM0NPXInVCkSdtmrAsD/NiUZr0q5/klm6MjPvYeQyei/4h1GFq9LHtewsh3S3KeeA5zh2v5CgIQgAAEIAABCEDgTRNQAcXkjnjTNBg8BJIJDFZocFyd8sXgzNrHh4oUp/RJtzX29QedmyvKvT+WhtweroTn8CZ4NGgMlxdWEdYdRaBqqv3+sVGT82XNomvbjl7X/ZMNY5iXn50MWc2rMDYvheUg58LesSaqCNsxQoOO20tCU5Yfymj9LIg5M6LNpOwVa1Y46d7dFCWyy9FwU1iTk9Nrp39Nuckrc1dd9rrliEHrZ22Sc3YQm9qM7CavyYXsWcttivJnCEAAAhCAAAQgAAEIRAjcFb8EDwvdHHOREnyAAAQGKzSIyK0xMlVc8GK8pmXTP/vWGvvm2Efj8hSWD+PBWp9mWwPUxHh51xovA5uQMfL92KTk/Ngv23bPy8R4UzhjSsoj4Zwy4ffh0478iacrUKEhPm7vc+SJfFP+dDhqqJVPD6Mygog3nmdw6XIqyOZ2LZaoxxtTmPQyMn5XkLDznHqMkZg9t64emFAUAhCAAAQgAAEIQOBtEmjZ67OffJsLgVF3IjBwoUHEi9lfkk3PlX3svWwu7srlQ13OvTNxI0ZtU+4O12TLLzcuG1NLcnB8LbeHwakKiUZmoyYny7OyYZLGuEKDd5rktZyvzsqGb8R6be/Ir6tr+dnSdieEyd/9qxWlMBPGroVGcmIfjSfCuHz3z/2N1adCw8R7O44PX2Rvu2xP6TCXNOT2eEf2Pkfb9USMxLbNdd3eZOfRIC0JPd/L5udgLr3TIlr/q8vvbV0fKty4N/MnCA0iYkJNTHxfa8v8BQIQcAlYLzA/+ZXZZLUTH+tyvvhechNfTFZyt7bX+/4p425zH9P7f5i0zNy3jGA+RBSbVSl9npTcu3n5eTVE/aIrEIAABPpEoOknlJ8O7Qh3b9qnBqkWAiNGYAiEhhEjlnV3VWiYWJOLuDeD15ZuNIdxY5k1ixeqr1m34Tmb+ZYzNV+oFzQDgVEj0KPQYHLtxATeURt2r/190rhHX2h4PA3Or/e987y8Q8/8zzsq72R1SbYWy5wm9EyWXA4BCEAAAhAYBAGEhkFQD9t081EkejN45RAaspsh8wQ29IyY2ZWbJHEnuxapCQKviIAaw/HjxNo9xbFP9n9UHl4Rh25Decq4lW3M+0zvWZ+L/vHGxpjPwJDvNoqev3c8Gk5qz7+xDrX3Rs9wuAACEIAABCDw9gggNHSZc5OEMpIjQF34ndcePA7MBkrrXCi1f2KD0NBlhnr42t+0T8pGx1CNHuqjKATeFAE1hjVUQj0c2gkNbwrOMwerbNsIDfrvi/57MIxCwzMJxC83/07q2OMF+AwBCEAAAhCAwFATQGjoMj19FRreTcvediU8RaNNR3RjyWarDSD+DAEIvAwBPac8JjTE85zoPUuFVO81bhiHT+q3ChX5vRpk7t5YLMt9vSI/vDj/sfeSL9jksMbodOrcmJqXQqEqsXN6JBoz64jB3rWR+2iY02YqPIXGnAP/RJppxm2qfpDLworkTds2B08kn46enqT9Dtt4fshXdnl3kuYmMoZwzPpv6UHVzcs0KRsza/LbnM6k4lVs3px5T6rbYOUNBCAAAQhAAAJDQwChYWimgo5AAAIQeAUE0hjcGhLgGJA5c+KPGplf5TyMuEgyZvW0oIjRrTlvIvVqfa7Q0OGUngnbbk+zkWbcXoUaYtCmjy9iSGd4klDS3CSNQYWGXHhSlM6f/zqjxzcjNPS05igMAQhAAAIQGGICCA1DPDl0DQIQgMAoEzDGZRuPhtzYf/6JFPfh6UE5PyluQ34teuLApJQ65Gr9d7wSnGHueFTcbHveEOOyuX4mwSk2TbkvBicT5dbP7PG5KkjM7dvTe5oNuVgPjtONiBdPmIC24xaR++Js0O+Jr3JSa4R9qoenHcVCJ57QdrpLsvNosO21Cf8ICxgmY5PyPV/z5+extiObvuCiXjK2NiNgqDeH/Yp3EIAABCAAAQiMAAGEhhGYJLoIAQhAYBQJGOOyndAQJjlUo3IrPOJXr/OP0QwH3jjdl8KcHiPmeCmERz96xToKDcuVUHwQuc0HgkLkqbrrYfBM41b73xIyIlZQ0LEGw+tspI/G3HcegzLZXK+KTRWpHgwIDaMxx/QSAhCAAAQgkJ4AQkN6VpSEAAQgAIEeCKhx2WJwa+hEaNCr0KAu93pdIDQ05WZ7OvACcMUA895JRqmeCuY7FSQmpVCx2Ry0/pcXGtSwHhdXRBHpbKT3gHyARTuPQZnrHAcdVR4IDQOcOJqGAAQgAAEI9IUAQkNfsFIpBCAAAQiocfksoUETIo5Nyt7htX0abnIiWKGhWQ1c8TemvsjGRBB+sTGzIuXTBxs2ISKmX+vVvkySqT/uySE1OfoUiB97x+6Rn9bTIWqI96V7fap0gEJDvSx778Yl925Jzk1iyT4Nk2ohAAEIQAACEEhFAKEhFSYKQQACEIBArwTaGty9eDRo2TCfg9eHx4czKc0E+RhyJnTiQc4XPCM+yPvw2KGz/yphfoexaSlW6la86HBNL1+1Hbc05WI19LKY0wSID3Kxbj02XkZoGFyOhuj42ns02Dmal59dxIObfHhyiOfJ8sywl17mmbIQgAAEIAABCLQngNDQng3fQAACEIBAjwSMkd0SvhAY2H7IgIoHqUIn6nIyExrnbp3m9AL1aPCO31TxIVb+w6wUXW8Iqcv5QpuyY/GwhnQAUo3bqyoxvGNSNqeCvBFRQzxd2z2XyuzUCevFkByGYkMilE90fO2FBtE14s75WJtkmfWS7PkeLN6863romQoXQAACEIAABCCQIQGEhgxhUhUEIACBt05ADcpkwzM04tWITCU0iEijKkcLH8PTGj7K9+V9uXw4kwPfCHUMy3pRvscMU7cfUSP3QS4LK5Kfcp6Gh9dG8yekm9FU4w6ralR3ZS9sd2NqSY5OH0RP3oj2MV3bvZfKyqOhj0KDiPyrFaUwE857ODft+Giej5xzCknvXLgCAhCAAAQgAIGsCCA0ZEWSeiAAAQhAYHAEmlU58PMfxF3t7bGVLbkiBtdbWs6QQLNekeJU4MXy3KNJM+wWVUEAAhCAAATeNAGEhjc9/QweAhCAwCshYJJDzsvPq6ZJ/vjYqEl5DiP0lcxydBjqGaNeLDO7cmPPzoyW5RMEIJAxAQ19inmqjdmQqYwbfPXV/T1eko2xSdlaPzPHMXcbtPGmiyQfHqW5qcv54nvJTXyRg1N7OlS3cfP9aBBAaBiNeaKXEIAABCDQiUDzTIomTj+Wo8EzRKfW5LKHPYxxxVcjtu2rE7rRqX98lz0BX2iYlI3PS3JwfJ16Y559R6gRAm+RwCgZs6MwP24+ovRizcgLDW7IYxbJfJsPclFck73PS3LuHu40CkvgFfYRoeEVTipDggAEIPAWCXinUZysLsnWB5vocWNqXgqFitz3IDJ47BAa3uIKYswQgEB6Apqj5YuceCfDeGKvL8givqZnGC1pPBpWK/I3+lXbT8lCwyjNjfVo+FHJQBkwnm7pxZq2cPni2QQQGp6NkAogAAEIQAACEIAABCDwlgioMasGnXo4IDS85CroLDS8wblBaHjJ5de1rT4KDXrDeULsFovETpzGHWfhTmRrHeC7Z6yLAfaapiEAAQhAAAIQgAAElIB3pLAXphYzZuMnv+g+1g0/+/BF9rbLcufmVNFy21VxT+bJeccTVzyXieh/jVpJDha/yIaGzH346oRQqQjS/rjiy/UgxM6eMtSQ2+MdcyJQbkJPOHLb1Xr/k6OayP3xmmy98+qZlI2ZNfnd2k334jbv7b7YnpLUTqwJ+/hZT+N5Lxt+++MSTXaccm7a9KjTn32vi4lx2Vgsp/a6SKxP59tdF5E8E+FVahPOleTuqiRFPYno3bTsFWqiS8gILm597vtXY0cl0hzaP75eoeG1xOjoDzHlD8S4Dj/3BtC3JWtvqP7NXW8g5h+qvjXcY8UNuT3clcLctBxVe7yU4hCAAAQgAAEIQAACIrqPdY0+fb9csblVtNyEDX2zhvdsEJ4R8vxXWQmOO9Z6nFcVDtTwLJ6qKepOhgoGKpI05c/2dHKdE1+dWH+9blx+rK61lp8pyr3bTKr3dl9sx5skNIQhBs5Ybfm40JCq4ScUqsmRChtj7UWcVBXrfLvj6SQ0JK6LSdH51fmOMHHrTmlHpeo7hVIT6KPQoD/GJ8RuZWF8ZlFHaox9LKg/xJQ/EBNXnLJ8H3vepupnrIs2Nfbnz/bGr/9o9acdaoUABCAAAQhAAAJvh8BjbV+2fCNwRX5r/hzd73p/906Q8f9ek5J/bPG45A9t/L4xKhfLopc/Nuvyp7gmJ7WAo+6Hg+uacrHqeR4EnggiNTny6/0ml17x2q5seu3O7cutVti0RyPbY3N1Dxt4Q2xuV32h5PFKx+OKEk+YT8OgVWh4PP0WChvTUqw8mJOV1DMj6tHwhLZTXpKZR4PTnpnPTkKDNz9TK/LL9xp5kPPFYA5axv1a7D+Hzyi/fQGhQdVCNdxafzwtALNYJFnU0dKxAfxBbzophQO9seZSln/5EelN+gnr4kU7q+v1mYrti/aZxiAAAQhAAAIQgMBwEfh3VY6GOfgig2co6l5QrOfDp29y6TghqBHqCg33xVnjTbAxtyYnx1W5azgXecOvhoa5b7xW5SAMsQhEg3CPF+6Vb/P/mfoSn4ibPbXuYcclt1B6XuhA0hTpnn+s1VYygsLqmREZvCqUT4vBnVT/kP6t4xgce+6nE5pi7J24OOGU59SJwU94H4WG9PFBnrt/eXleNtUd59378Afv3IDEGn7mJjDxUbYWd+TXlb25mMVqbmKh4qWfzc3Cuanpd95rUtxYT/PUkJvDHdkz8VOTsrHg9VElUq8ye6Nyb5yS9OPQm048NsmLWTu8DmOTEti4YxpTJbgpl+uhS1rsRuX1yty41fVL206KlzNtWziN030paOzU2HvZ9OfGHbdXNv268GtuVuVoJjhft1S182xb7e1d55i+NJnm3Zu/cvcU+YbcFL6GsYLe2Pc5z723qaE0BCAAAQhAAAKvjMDf468djHhnn697Tnef7hjSkf2yNOQyr3suu8+P5EmoFwOvCW+/63sszEt+blxyn4typ/vtcC+c3nZos3/Pas6UQYvQYNv9fuhY2w6f1y80uPtvZ7+O0JDV6utLPX0UGtL1t1ndkS1N5BIzjiNKZ5LQoOUnrOtV+ptFG6FB63TjxtINJTSik2LLvJug+wOxN4zIjVNvfIkK77RstnCalELFM+TV4LU3WyPGhOMx7ah72JhlFgzPnt+7dxyKA3rDaxMXFbQdXP33sN0/JNNSqj1dIGgcL9l/oGL/+KSelrBgmpg+o5DqOmh5dedRuc9LcdWq64b9elR17rW/lIcABCAAAQhAAAKjS0BDFMZlc/tMjNNBp/1ubK+n+3qzj43AaEqzXpXz/JK1JfRhWaMiBW8PN1eSi+IXX2D44+d2mJWTSiBCaEiEtpFb75aUq83+PdKnZ3zQfXfEZvDq04d0Xi6GMDYkbMZ4OsQN7md046UvNfyTxmDWirv/zkhoaFal9HlSchNfJIuHmS/NbRTaG7DQYI3b3ELRxkXVi/LdN/AcpTOJZrMm5c+Bce0avX5RszC71BGrNzFuLFam/Uc1PMeloMa6d7RwvSonq/tyYy5sc6NK6rO56XgZXpWRjRvzlVlTr/PDi92obRHL3AgK3pcqQEw4Lmtp226UZc+br09r8vtBRYWm3BXnA5HgSaJN2OMMPRrMjaxDTJ/lZOeyfY4GW8bLOLx3WPfd2YygMbHjzLmtmXcQgAAEIAABCEDg9ROw+6R8MdgjPTZqcr6siRedPbruOWP7V927uULDTWFNTk6vrXAhTbnJa51qkIYix8RX2ZsbF19UCPfZ+blgf6q2g9m3jXn5D+rmJIPW+Wmzf28t+LS/KIMWoUHkzhNL/L32N7n0nwc25LboPORLMtKf1ouOVw0uR4POa9A982AwPm4VmDxv7nDNtRtQ5GHmRLT+dtfw994IDFZoqJdCQSFMGKl9TzK4ve8a1/Jre0m2PrR6Dbg3IL+adnVoG+Frqrix2DXtP1ojPjf2XvKrRflVdW+EemWbG1VSn/Wm83lf7vRy77W2Ez7pj3ommB9e7EbtXvpPvQQWyybb75/tgKmqu375lG3bG3Q7j4rh+PGa0JCxcWkb02dA2X8c0wgNXkIglVhMFbyBAAQgAAEIQAACb5aAE7LrP0DUfaL3FNl7/zShQcUH40Hq1L25XQtzGDzI+YK2Nx6eTlCXk/ABpfeAqGScA+pyvtBqW2j9dh/YZv/+nPnVvbYzBm3Xf1VD2jOgWzybx2VzKhRYtNxz+tL12uxOneg0h964DXNjG0VtCWPvtIzbzlGEY5Jd1KzKwZSuEWctduVAgbQEBis0mB9XmPVVe20WlTPpD2XZS/iB6SJ6itCQOm5M+5XmtVGVowU931YX73vZWq04SWPsjyDS76RxK6P4D8SINA4jSePR4LlYnEnRZ7kkvzxVNP5Zx5mybfNjb3eTTFBmtYmXfU0R02c61JvQYG6I5nreQAACEIAABCAAgTdOoHkt56uzsuHvETV/17X89PIlPFFoaH3w+F42Py/JwfG1eYDmUb8JH6LlnHBhm/gxfkLEg1wWViQ/pXnidA/vGL3tcqw9Z4p1r91uD+0Y0s2rkhQ1F1qYq+2fXu+Ue053ul2blUdD/4QG78F0TU6WZ8O8aeE8xu0oHagmDXXWiH7F6/MJDFZoUHf9sdiPPSF0wtwYpnbk0gZ5ybl/o9Jkhw6QJKPd+doebZMibixyXcoPzYbcV0tSWgxdncbG5XtRE7i0ERrM8TiOeKA3kNgPpGnOEI6KNMboj5WP9/omzLDrCR3GIyGeUyBl22nbjPdhcJ87xPSZTvVHaPBv0J5HxWLZEZ5Mo7yBAAQgAAEIQAACEIAABPpMwAvjOVFPlueEefe5n6Nc/WCFBu9JeqjgaRzN40NFigluLEb5mivKvU+8IbeHK8G5t+ZUBWcqusboWEPStN0ubsyptvPbmpysFuXy6sG60TdrcqTjcdRGM57Viq++/rsqyp6eupGo8Oq4RR7rZfmhdcbEASMajM2LewxMS79V5Pm0IgVfrNGzhZ2SRmjo0rbW5eUpKNacmDmnrqe+zTBHQ7qYPu2ok8Bo/SyikGsJNwlnOo+GqMtZxJvFVso7CEAAAhCAAAQgAAEIQKAvBKwN6HvGT63Ib30W3Jf23m6lgxUaROTWJG+xLkq5iWnZ/BR1qXo8Dc/DjbsWhScitBpt1mtAwyv8V/Okv4e4sdTrI7ZwI32Nnr5gBQF33O9DN58Ej4ZIXeE175bkPP7DMJ4cTr1JQoy4+SSCrLx/4+NUoaFr2035s61JeKLtesxb5ybeUPvPkUQtZu7al+/0jRF3EsZjY/q0Bm9MSecquzFidr7TCQ1eaMvLJ+7REfEKAQhAAAIQgAAEINBPAnZvGLE/Evaez9kf93MEr7/uYI42pualUDiT8Ky91z/sAYxw4EKDd2TLZX5JNv2n+V7s1q5cPtTDkAjH4Jam3B2uyVb41H9jKojFuj0MMscm/li7xeikjRvrYWJakku+m5atxR35dRVfxk25KegZwJOyseCVuW4d98OZlJbnZcuNGfvwRfa2y/aUjlj//tWKUtAYrvDGlsTHJIUcmwyT5MQqUqFhQgWQccm1bbsht8c7svc5np/ieUKDZOjRkDamz1Koy+9tXZsqoDxPaBCph3GJYQZk2xjvIDDkBOzmyRfWjKjp3qeHfAjP6J4exbwxV4wm5n1GnW/rUiv+B/8exdbT24LBaCEAgVdLwN7bEBpe7SQzsJQEhkBoSNlTimVOwAgNM202zio0PNOTIPOOj2yFTbmvfAvDfablyGQ7HtkB0fE3RcBunl6L0PCvVvKF3M18t7PTm3K5qmKjmxhsiBZA80Euimuy93lJzh+GqF+mK69PaHh8OJOT1SXZIueOmWXeQAACEIAABJQAQoOSeGOvfk4I/+SJNt4MHg+EhsxWhUmY6XuYTMr3fM3m8cisFSqCQD8JqKEYHkdscuy4Xj79bD/7uk04lZM/p10r1qNhX26H8SzbEfAwUd7FUw+gHjM3uh4x5r6OGN/uZ8PfIQABCEDgDRNAaOgy+box6ub+lBuRjUZ8PJvb1fYGL0JDl9WR/mt/QzrxsU0YTfp6KAmBwRFQoUENQ/VweBtCw+C4p2x5hISGIKdNfD2lHOcQFUNoGKLJoCsQgAAEIDB0BBAaukxJ3DBvKziMmtDwYVYKxVqb0xRCKAgNXVYHX0PgLRFoyO9lL3wgJjR82pXbGAbPpby8PB/m3hmX3Ltpyc95uWasW3+ykabGZ2tul6BOey625un5F2u7Wa/E2p6NJnsyBrkNhYjf121yV9sfW0bHH2tYROJ91Jw2d64HhN5Xt6vSqO7Knubf8c5Er8Sz+7a2Ef9L13+j9N8mc2x06JHiVuR5p7gebsporiR37rnt76ZlL19tSZwVH3e7udFjqqNCw4r8jqcwcvuW5n29LIUPk5JLSpCc5nq3TLMuF4UVyeu8jL2XreV9uTThKCqwtV8/kZxIOt/e0WmNmpQXwjxGHssCnm0uet5DAAIQgMDrIoDQ8Lrmk9FAAAIQGCgBDTGwhrlrkFkjvSehoV6SPd8QdusK3kdOjDFH7baWM8afGtEJGcC1z08RGjqOe2pHblRsUMMzPDFJ2wxeZ+WkR60htdAgDfm1GDLLRxPEmFOdPu3Kjbd6lFFiH2OJbNPOTR9X5U3+vRiOKcJg2nfFOY46vj5UsJEnIcZUAgAAIABJREFUCg1za1Kcia/LDqGL7TvJNxCAAAQgAIGRIIDQMBLTRCchAAEIjAIB59jchaI9Gcc8TX+K0KAG8n9SrDzIY4iheVWUvG8M2ifiRryY2rWGfbMhd5VdOTg2j6QNSGOkpzFO1fg2Hh2mGhG5lvJUaEQulOQ+FBW8E4BUIDFChwoNXt9nduXGf5pfk5J/pHOrJ4fbSsf3HfsXXNkiKPh/Vr7j8r0YqhymrnHJff4mFz66ptwXg1OecmNrcuGPUa/tPjcd+/7cL7PyaDDjdo+jbkrjqiJH22WJHwFt1psRIRIG4s73xFf56SNW76BxyW1HRZ+EGvgTBCAAAQhAYCQJIDSM5LTRaQhAAAJDSKBeku++8R9zzzcG3BOEhkZFCvGny7HP6oFgDGnv+89LUjqsyG29acSJOLHMhIZ6UbaSxi0il+uhAOG5znsdUMPz0ze5VC8HEdG+GEEi3tlunxMYt15SkyNf0PjPnnqj101YwcZ4NIythIJCWNNDWfb8cYbX9zA3rX0Zwr+YEJJxyU18kUK+JBe1ets8Rr0JDdNyUHUmfAiHT5cgAAEIQAACWRJAaMiSJnVBAAIQeMsE1Ige+yaXLgc1Zh1vgGQjzeZEMAa3uTbudm4/q9Ag0pS7wzXZeme/813qP3yVcq3VyFPjPvdcjwYz7tbEmC3j1LKxp+DaFzNul1+a94aTFXOSLrsvzvphBpth+ET8s3+NqSs+Hhs24DM35WK8HSHIzk1Sb4bvb00/J4UTiuGNZeKj5BPyKbTMbdJwdL7H4iyTCvM3CEAAAhCAwOshgNDweuaSkUAAAhAYLAGTI+GrnLuRCqlDJ66l/DkwWo3BbYzZ+dDtPN0Qmw/XclFck7yKDhNRDwKvFjXuny00tPVoaMrFamiEr54FnhVqeA5IaJBG6JUw4Rm+6uEQyw1hmMeM46v90HMjnAtTrre5STeDgy312HyQu0pRinMqOrTmU+iP0NCUP9tfJDc2KVudToUaLB5ahwAEIAABCHQlgNDQFREFIAABCEAgFQHP9Tx8mp0v1n3D+vGhIkXNX+B4NJgQgok1ufDyFDSu5WRRjTo3V4Eaw+OS8/M+tHomaN/+Hu/I0XFN7hu2TON4JUwU2PqkX09ByHlhDN1OPnCM6oiI4jdelQNNVunmaDjdkU2fx6T8qIQN9EtocMIYlL1yib5qXoVxyS+vBP1bLEdPIDJj/WZCJx4bVTmamQxYzhTl3q80/dxE+5Dxp8xyNJTlIF+W23rDhNs8NsomdMeIX2H3/1Xs2gpyLySMS+c7rUeDCkHhuhk1j5AEAvwJAhCAAATeKAGEhjc68QwbAhCAQD8I3Oan7QkAoeiQM6cXOMa+Zxirca7lxiZl411gzLpGnXeiQ2CwJ7joO54B5gmzqc8pv9CazO+xTb3GuDMGt1OPW7fb9vHX1nFr2YWSTSSohqdzrTcP6l3hjru3+bFhJ+YEBq/9WDtenZFcFmP/teYO6DTuiS9ScnINpJ2b3sbSW+nMTp3oOO6Yl47XxTblI3Oo851WaBDPo8H+hiJ19YaF0hCAAAQgAIGBEkBoGCh+GocABCDw2gg05DK/JJt+yMKkbCzsyK+rihz4RrcjNIhIs7Yv+Q/hU/IPX+Xg+FruDoOTDeIG1r+rshwsfpGNuDgRMaQf5LKwIvkp9YyYlI3P81IonEk7h4X7yo7smfKBoPAUocGbxUbNc7Wflo1QYNiYWvLH5CeB1GlWwzPS7yyEBr8DcrI8G2UUayfohuOJYLwTtIOuAf1eNjT05N205Jf35dINiQkvSTc3Tv1Zv83Ko8FDeLovBWcOcx++tB23NwzvZJHCzMeIyBRZuzrfqYUGr1abC6OgnjBZM6M+CEAAAhCAQJ8JIDT0GTDVQwACEHjzBMyT36jQ8Oa5DAyACg2teQf8Lpn5iuVoGFh/31DDzYbcFkPvGPckkDeEgKFCAAIQgMDrIIDQ8DrmkVFAAAIQGF4CxnBFaBj8JD3IxXromj9TlLukDpn5QmhIwtOvv2n4TBD6Mi0/KvV+NUW9EMiAgPW88b3AzH2D+3wA14azBV5OMV4ZzABVQGDYCSA0DPsM0T8IQAACo06ADWhPM9gx14TmffBfexACzByE+SYmvsp5OzvWlO2h/p5GSOEkAr7Q0CFEJeka/gaBwRGIGc7mvoHQEMzJ6xMaHh/O5GR1SbYWW3MeDW4d0vIwE0BoGObZoW8QgAAEXgMBNqA9zWJ/hYb3srm4I7/biQxeT818ITT0NHEUhsCbIqCG9Bc58e4n5tQh7hu6DNRLqXjqnYRUlxP/+ObRFWLMv02JuX901LxCwBJAaLAsePcWCJjEXE4W+e3qWxj5qxmj+YfOebJrkve9mlEyEAhAAAIQgMAwE1ChQQ1n9XBAaNBZU6Eh2KPEeWmp0Xk1+y+EhtGZtAH3tI9Cg95wxoXYrWxm+e/xkmyMTcrW+ln0zPNsqn9eLcaAD/6BGdqbkeknQsPzJjy4ehBr0qwthIYsppA6IAABCEAAAk8g0JDfy95eKiY0fNqVW7e2pH3Xhy+yt12WO+9Bv/6n5bar0qju2tOAPsxKMSFfSaNWip5EFJ5cFJzyo0Z9aINoG87r5XqwD7QPKhpye+ycQjTxUb63nLSj9f4nRzWR++M12dITlmbWWjzFbvP/+SfSRIWGFfnd7hgkp3+d3vp7r4lx2cgihKFZl4vIaU3vZSsybmvPRY5OdvZg7kk7ukfbzNfksV6W4kx4ClSbeew0Tr4bfQIIDT3M4b9aSUrL87KZz+oJeENuD3f9o7SOulZZl5MZNY71pt5D5/tdVP+BCI/w0htN0hnu/e5Kx/q1n69Ejc18TTYf5KK4Jnufl+Q84Ri7KNtBr0n9B7/9RiLaXz5BAAIQgAAEIPCiBHTf5RimxmBdrtgHZ1puIjzyOFJ+NgjPCDv+r7ISOVLW1Ddm9wPqTRCELcRHrPsH3U835c92mCQ30u645Lx8NmY/pNeNy4/VtdY+JB0XHG/62Z9rcqTHDjvjfVq1NTmaUtsi9mr2yU8TGnLLa1KMH0c9Fp3Hp/WZq0aJQB+FBv0xvp7YLb1p5TJztbc/Xquotl8+5unxakX+ti82mG80pvdzkMX88TS8AWfGKqNh6T9k5gaaUb0DqibzNanzaJ5QdB7YYNek3mPsxqJzb/kWAhCAAAQgAIFBE3is7cuWb9A7T/d1f+b9fWZXbvyn/jUpfQoMYPepudn7LJZFnQMem3X5U1yTk1owOn3gFVzXlItVr57AE0FEj/j9Jpde8dqubHrtzu3LrVbYbMjFeuCR4D2dD/6z+w5P3NjcrvpCyeOVjscVJcJL+vCSmUeD2fNNS6mm7iVNaVxV5Gi7NeGjMu30ENGU8XhO7cilz/Nayn5+inHZOzaqTR/IUOWwEXgBoUHVQjWqRzd2y9zYMjOelckrMJT0ZqUGvP6DkRmrjH462i/tZ0bVDqqazNekzmNKoWFQ4w7atf/gpxHqBttXWocABCAAAQi8TQL/rsrRMAdfZPAMf7URRET3Z5++yaXavCKi+xxXaLgvzhpvgo25NTk5rspdw7nIw1z9FpTx96FVOQifrgeiQbj/DveCGuLgekZE3ps9o9135BZKw/fQr9fl5SXwVK+DiS9SyJfkolaXGElTqxERDA/zlXljynQ62ciU5s1rJ9BHoWFQsVt6E5iX86trOV+dlQ3/R+Rl2t6Xm9ivxzuqpbysZcYlF48bM4ZXzKXI3CRdkUDbdsu+l825FSlXVSIVMT9Cp47IDS0MPwgWnxUjbJl2Yk0svmystW0R7WM6PtI1div8iTQqUvDGozef8B8MqwI/8afUrMqRF9818UVK1djkPaVK/YdM+5lUh5Zx5ye+LrzrtFy3eEJdQ3MlubsqSXHmY/CP37tp2SvUWm7og1iT+g+5XWPuGnbm1ec14DVp5kzXsvsbNF/yBgIQgAAEIACBARP4e/zViAKte4wEoSG2P9P9iSs0iDTkMv813N/b/cqGmyehXgy8JlbP5NH3WJiX/Ny45DzPW92Xed85YkZr/8K6TZ/sviPanwFDfkbzTX9fGuZR0H3vxEfJJ+xPjf1ieLQ2nKZM61X85bUS6KPQkBKZGmu6uN3XJ8Vu6U1gUnKq0rl1rgc3Fa93zeqObCWV8cpP7QSihN6M3Dpi7+3TVG3b3vTsTWvaTxzjtWt+hLF6bFlXSEhr1NXlfDF2ozD1TzquStrH7nx817KusVsp5/mJxRrHS/YfqA43ttTV63rrVJeWMfyc+XzKmtQ1lBh3OClu/OCg1qT+Q27XoDNmj0OE1yDXpDvTupYRGlwqvIcABCAAAQgMBwENUfDCDM7EOB3ovijJoyGy30j2aLBja0qzXpXz/JLdz2ueBOcB2EXxiy8w/PFzO8zKSSUQIfRhmNkDrXdLmGb3Ha9FaFCWj80HuasUpTintkR0f+qVM/ZLbI60jrRl3PLSrErps2eTZPRAMVI5HwZNYPBCQwKB58Vu2ZtAbmxafhzXfbXSGqxqxF9LWY3ohZLchw/L/9WKsheKD/GbiLkR9RQO0JBfflbecdEbmh2yNdisWGG/bXlnDGAdgy1hE+NMy8Fpwx+zeIn91sPkNhN6TVo+7lnq6WK3bG8yfDcIj4aE7j9rTZp/UD0Ba0V++efXP8j5YmjMm/U0BGvS9NV5ypDAw/zppdekadh7Y9dyqt9P5Fo+QAACEIAABCDQXwJ2n5svBvvxx0ZNzpc18aKz19D9RMyI1b23uye/KazJyem1FS6kKTd5rVP3u6HIMfFV9ubCPXi4x8nPzfsPsQqVwNvY3UN7J1y095+1+w63P/1l2Fp7djkaynKQL8ttPbQbROSxUQ48lMfGJT5Gy2lefvp72YS+HQZsow+oWsvpX6x95iXe1LnTb3kddQJDITRkG7vl3gScX4ExoMJFrC5VY2GySmcm9cibnPv02nWtMoahc5F5+yCXkWNinCfDLdfZG3AqQ0lvwpHQCq9hTXIzLrnQDcx0p16S7/6TeU2Ak5KPX21vsVumzWF+owxj/5DFu5zpmjRrL3pjNsqwrothWJNOX22W5Tgd57PyfKk16TSN0BCBwQcIQAACEIDAkBFoyuV60ikS6lX7NKFBxYckL8zN7VrwsM17GLFg9+CB92hdTsKkhLmxSSlpjkepy/lCUj+D6+0e3d1DDyqpYYanTpg9n+VkmEZO2wiXVZvyriBh9rZd9tlmoTarcqAPfl0PF1OAN6NMYOBCQ/axW/YmYG8M7tP5UGhoayC1dw0yNzY1DOMz36xJyfxYEn60LddlJTTYMbs/9qB78TZs2Y58wrH1ErsVxzGUn3XeO9wAM1+T5sYcVWrNzVjXhfatxWh/wTVp+ur8499pItv22a6zrNek7Y5tI7KWbQHeQQACEIAABCAwSALNMF+a/9DLy5e2I7+uruWnly/BNSx1PxHbn+neO7KXaFzLr+0l2fqg4sB72fy8JAfH1/a4TBG52dbv7ekWNvFj/ISI9g8K7R7D7jsi/Xlhvpl5NIhI43RfCnPTsqHhwh++SH55Xy7b6Cie53dBc42F17gszN42No8dEWnizjE7Tx3L8+XIEBiw0NCP2C17E7A3hgShoe3T4/beAXqza3e8pXEpmvgqP6+aoaJq48tar4uLAF3Wjd6EWwzR9n2WlnGm5BPrSprYrdglw/lRGba9AfZhTRrjvYvQ0DJXirD9/Ga+Jk1fnys0tO9zVmsyrUdDcATnuGwsth7VpIR5hQAEIAABCEAAAhB4WQJeKM2JepPEPMlftie01g8CAxYarKGdXexWWkPaHnXjHVFjcjSc7gRn6Y5Nyo8wdkvBGxXUO3rHHiKhX9skKeb7pvw93ZHvmnBSn1ybKxyjdv0sosKaIu4bNZJbhAbnifeYm6OhLj/1xzu1L3d+XWn5eOJMb7Fbblcze//iORr6sCaN8d5FaJAhWJOaPMmLzQvjKTvO5UuvyUhn2qzlSJmoi6GrukeK8QECEIAABCAAAQhA4IUI2P22H64xtSK/nYj3F+oEzfSZwICFhn7EbrUxPhKMvY4u8gnn4z5WVYSIhkUYz4l6McyHEP0+p6cNtAgNTfmz/Z89VUHdllwhwRhysTq1rNbZMWxjWg7M0ZDp+YhhltB2UuxWHxZrJElMWy+EHhpWnm3r6sOaNBy7CQ0ig1+Tdn2YOD1vrbm8lKGuwfhrP9dkZKptX81vMPJ98OHvoXO0lvYtoRx/ggAEIAABCEAAAhB4CQKB0LAxNS+FwpkkPL99iU7QRp8JDFho8PIYZh271cb4aGPsNWreUS42NmljqjXGy52D+8qO7E3p0S+BAe4aOY3qruQ1ZuzDbPDjOd0JxIREI6cuv7eXZPOda8w7Bmlao87rZLMuF94RP9r+xEf53hJn1SOfHmO3XFaZvH9xj4Y+rMk2a8/EscXWxcDXpOfGtjwbPZ/6KUJDn9akXVdt1rItEL6rh7GgSSe/tBTmD20J2KcP/j3PrOuUYTZt6+WLoSRg/u0J/j0y9yv3XjCUHadTEIAABCAAAQgMA4HBCw3DQIE+vB0Cunlms/wK5jyN0NCU+8q3MBxqWo5MhulXMPwXHwJCQ5bI/9VKUlqel818t3Pbs2y1h7r0Xhl62I2+0NCQ28NdP+nZ0ZAi72F2KAoBCEAAAhAYegIIDUM/RXQwUwK6eUZoyBTrYCrrLDQYw8gP7ZiU7/lah7OxBzOC0WpVeYdHAjfPpOizdTywRmtAA+1tt0SuA+2c17h6rHwu+vl9Hk/XOnjmDby3KToQE8pSXEERCEAAAhCAAASeTgCh4ensuHIUCajQ4OYViIUujOKw3lKfowJCa/iSsvDLTXyULf8oLaL/lMvTX1Vo0FAJNdwQGp7CdGSEBhVl9d45svdLXa/j4oY7PmXuuAYCEIAABCAAge4EEBq6M6LEayKgm2WEhpGd1bRCw8gOcGg73pDfy56wExMaPu3KrdvnpN/Yhy+yt12Wu6ZTUMttV8XLbWNy33yYlWKlNfV0o1aSg8UvNnfIh6/OmekqgrQ3Ii/X46JUQ26PnZw7HXPa/OeH3dwfr8mWn09nUjZm1nrPkK1eAu79J/beN4I9b5HwtKLiqQvN41eXk5lgLN+LHicd+7ycX4U5j/xrvfPqdxNOSEozbu9w9YoUvL7FhIbN/DPjjzLOu9N5XbgnMgXMIkluffauUKZihHeWe0NuCl/D9eax3Jeb+FQ4y5m3EIAABCAAAQhECSA0RHnwCQIQgAAEnkNABYSYAe0beO4Z2VpOT+WJlJ+VE0dr+FdZSTidJyocqIdAq2HuDcYxxh+8z96JP9PJdUZO1NHrxuXHahg64PZzpij3vbBKKzSIyE0+PJHIZea1ZU43WpJfvqOO9nFScnqUstvHKVcISjvuXgbVW9ksTxJKsy6ShMmo2JAkNMxLcXW2dX2sn8ljb8OlNAQgAAEIQODNEkBoeLNTz8AhAAEIvAyBx9q+bPnGr/ekOGxThQbv7zO7cuP/vSalT4GAkD/0FQG/sIoIucWyOQLrsVmXP8U1OQkfsKtBGVzXlItVr57AE0GkJkd+vd/k0quxthskCJ3bl1vtT7MhF+uBcW+f2qsRH/Rpc7sq/0Tk8UrH81XObTd7gmnG1C4UoUVQCKo3AoQxep0+TnyRg8qDbww/1ouSDwUHI76kHndPQ+mtcIYeDYZhh3VhO6feCu29XkRsmdzYpOwd1n2WRtCY2JEbWyHvIAABCEAAAhDoQAChoQMcvoIABCAAgd4J/LsqR8MczBN2DbsQERUaPn2TS8clXY1HV2i4L9qnyxtza3JyXJW7hnOR18XqNydZYVUOwqf7gWgQGpBhGMCteguYfgVCgnnSreECxhNiXHILJfnbO4q2V+g4c+2EBmnIr8WgX3vHqobouNwTVKzQ8KPiMnmQ84VQIAnDHdKPu223h+qLVOvC9NiKCO1zNNgynqjk0jTV8AYCEIAABCAAgVQEEBpSYaIQBCAAAQikIfD3+Gury7kx6BOEBmPUB7WrAe4KDSINucxrvLwVBSJ5EurFwGti9Uwe/Sf385KfG5ecd2qChix434mItmGEBdO/sG7TJ2vER/uThkTnMqYPbYUGkcfTUDxZLAeeFLHPQQu2j3EDWvNSqJhh2oyPVz+bcXfu+/B8m2JdmM5aESHOyRRxPBral7GleQcBCEAAAhCAQHsCCA3t2fANBCAAAQj0REBDFMZlc/tMjNOBGvomkaTj0RAzbtUYTjbsm9KsV+U8vyRbmo9A8yQ4yQsvil98geGPn9thVk4qgQihIRHaRm692mV01ohP7k+Xyzt8bfrQQWiwIR+eQKPJOCfFhEL49ds+Ro3jayl/DoST74dBwgvTZtdxd+j4UH7VYV2Y/vZHaPh7vCQbY+OysVjO1OPFdJs3EIAABCAAgRElgNAwohNHtyEAAQgMHwFrzOWLQXz7Y6Mm58uaePFpHg03hTU5Ob22woU05SavdWoyv1DkmPgqe3Pj4osKocCRn5v3vSwKlSAEwcTcj037J1y0d5G3RnzWQoMJY/BCRzQyImFCNSfD5vJKkHPh024sT4DtoxUgGvInr+EmNrFm+nEndCSrP2WYoyHdutCOOyLY+pnvIaLf2Fe7fqOijS0RfVeTI/8UkkDQyXqNRNviEwQgAAEIQGC0CCA0jNZ80VsIQAACQ0ygKZfrkwmhE3oiwtOEBvMkXl38ndfN7Vp4EoDNSeCFRARGd11Owqf6XnK/kjmZsS7nC0n9DAxGa2RaIz5rI/KxuhMkpHTG4vXbth1Os0kK2c6YtX1sDQWZlK1IroG04+7fEsvy1Il060LH4p24EZ7kEWGuQpVXrlehwTs+0wkV6uidov3gFQIQgAAEIPA2CCA0vI15ZpQQgAAEXoZA81rOV2d9d/Lc2HvZXNyRX1fX8tPLl/DU0InGtfzaXpKtDyoOvJfNz0tycHwdeTJ9s63f29MtjOfAWPyEiAe5LKxIfup9izBijX1rxGctNHiTcV/Zkb1Y+7ZtnS6bFDI3EU2cGZSwfdx4p2N5L5tzK1I+DU6g0Jq0fPdxR6/I9FOGHg2Scl3Y/tfl9/aSbDpeCLmx5wkNIvVwbYdeNLYx3kEAAhCAAATeNAGEhjc9/QweAhCAAASGm4AVGr4Xg1wL0f5aoaFVpIiW5FPWBJpyX/kWeqa4J4Fk3Q71QQACEIAABEaPAELD6M0ZPYYABCAAgTdBoCG3xdA1f2JNLhKTSSA0DGIp/D0M8n4E4SqT8j1f4zjMQUwEbQ6QQCzUKCnp7wB7R9O9EmjK3XHcy84Jdwyra1Z3/GTMG3NFuUvbhB5nHfEgS3vxYMuZe32YuNqE7BEql2piEBpSYaIQBCAAAQhAIImA3Wy35kgI8iro39OHX8TrnJaDaqLKICIIDUmz0u+/+ZvPiY+y5YcGdcjm2e+OUD8EBkbA3qd8byqEhoHNRBYN35oEy+6/W3GhoSmXq/b71F50CA1ZTFHHOh4fzuRkdUm2huwEJISGjtPGlxCAAAQgAIFOBOxmWwWFdq+9Cw2TsjGzIie1ToYsQkOn2eE7CECgXwT03vNFTryoruaZFP1Eq27ek361Tb3ZEqjKQXhkdL4QzX0Ub8d6NOzLbTv9O37RCAsNon1fPfMTT995x2ePjUv6f8/jMPrzOe550Z9Weq8VoaF3ZlwBAQhAAAIQgAAEIACBN0xAhQZ96q2iK0LDyC2KfnujqLE+gqETRmgIQyXUoEdoSLfK+yg06A0nPK6r3SI2i8+64uS6xL38PV6SjbFJ2Wp7Fna6wY9KKV3UuaGND9J/bJw5dLPLJ4FuVqX0eVJy7+bl51VSAf4GAQhAAAIQgAAEIDCcBBrye9nb98WEhk+7cut2OGmf/+GL7G2X5c59Iq7ltqvSqO7aE3k+zEqx0poIt1ErycHiF9kIn8TnPnx1TiKy+9J27v2X68Ge1X7fkFs3R8HER/m+vC+XD+5gtN7/5Kgmcn+8Jlv+KTae99ma/G7tpntxx/ePD1U5d0/F8cZ9GPcuiPXRO9nJO2Go6nq9aR/n5fwqPAXKZ+SdArUvNy5z7VE7G02/d0L0rMeezrspZN78uypH5saeiBQTocKTg8xJQB9mpVA4E3c0on2bK8ndVUmKMx+Dk6LeTcteISk3TkPuK/tS0HL+6Ve7sXkU0VOLOrbtjai2GyT8jQkNhUqkl2bsvo06MS4bWYQwNOtyETkd671sRdaktbXtvLi2WNTzQu3JzXxNHutlKc6EJ1W1+Y2ZQT3jzQgKDXU5mVGI7Rf5M5gM3aW6MF6T0PB4umaPlOsiLA3dhNAhCEAAAhCAAAQgAIHuBFRA8MMqdP8evi5X7BHFWm5Cjyl2y84G4Rlha/8qK3YPGatXhQNN2lc8TbSs5Txy5HJT/mxPJ9c54R6NrEb8uPxYdfax2oeZotx3J9JSQsMRWo1F186py/miHmHssvHeT8resSoi2sdJyakIo/3zXteDEAA3v09ru2H9Zn+udbrtun2zQwoeBrvl3PeO0NCsysGU+53zfqEsf7VKFRoS18WkROe3AyMzFi/MJ2Xb2ofUrzU5co5P1rWY+vJIwZocteMTPngWeZrQkFtek2LL2oj+xiJdecaHPgoNuijTx27pTSG1R8NqxS7EZ0AY+kv15jvk8UE+R70hGIW7DV3Ho+GklvSPQJvr+DMEIAABCEAAAhCAwMgSeKzty5Zv/K7Ib30wrHtd7+8zu3Lj/70mpU+BAeq6qht7YbFsnn4/Nuvyp7gmJ7UAiz6kC65ryoWfxDDwRBCpyZFf7ze59IrrU+u5fbnV/jQbcrH+ny8+eE+Ag//Utgn6tLld9YWSxysdjytKhJd0fdG+eOPekcuHcE/cfJA/xX25CPUDK65My8Fpw88XIM0HuVgPBZIJNeLdPk7Lj+O6X7ZxvBQKKUnlHCPfFSVc41zH0Wmf7+XpCA0vpyGyAAAgAElEQVTYzfWK/A2H8nj6Lda2yE0+YJsv1IzY9Ng4kwN/XnSevHzHJclrn6ZW5JfvNfIg54thn50+/jNjnJYfh7bef1cVOTrUOeyhbR1zD6+ZeTSYcU9LydhJTWl4Y9l2hJiwb7re9aF0UpdNGY/n1I5c+mv9WsqfA5ZWrEq6+ml/ewGhQRUvVV10gbd22Nw4nEXTWuoN/kVvviEXXSjuTXdoqJgfhs770PSMjkAAAhCAAAQgAAEIvDCBuCu9fYLu7BV1r/vpm1w6z5/UNnD3vPfFWeN9sDG3JifHVblrOBd546uGxq2/d7bJDgPRILRJwifDt6HRa/sVM7zNE2THiF8oZfOws7YTjqXTE2UVSsYlFz50NFNYL8l33xBX49z2MX/oxHKY/XmCHWa+c+bDNBB706msMh+LHcesc2tyNDjiiooIsVcz3057P53hqC1kH04/yPlCOG/GayPWd/9jD20nXf5Sf3NEm9zEFynkS3JRq7c9RtnwMGu1taOmjOel47BsLZndX/ooNKSM3XLGojcTu2icLxPdQxJ+LOaSDGN09AeSKm6sITeHO7L3OYwhGpuUjYUd+XWlEqnpYN/ig5wWOr+tl6XwwcuTsJTdgnNuCOfqxeX0wixy54ZibiZOOX3bqHoxeNOy4ZcPYuDOE1g2TuPxWHHmeuNNF7PWrFekvDwvJnbrXULcmN/JWLxcYkyfjoZXCEAAAhCAAAQg8HYI/D3+akSBVkPeMWx1rx0zlNQ2iO4VG3KZ/2rzM4R7ykiehHox8JrwDHPfY2Fe8l64xOei3OleNTTatY3W/oWGq+mT7iWjse/Pmk0dtzHCk2rr1K4+yA1z4jn5FCKu+zrmpHbMd858JHXD+1uHsmaPb3iFlbSM0fa5HXMz36a9qM1n2jIPpzsxcgfTQ9vuZQN43/RzUsTCZSY+iucFEpPVxPCIs3f6naaMUzyTt30UGnrvn/mhm0Xj1pG0MKKLzpbOOEZHfyCJ8UGuAumJK0mxZd6NKtbXvsUHWQrd3t3kncWbyLxbDQnfmxtC8s3KLPKuQoMXLxccIdNyE4r9iP4etvtHzHU30htQt5g1x4XO6aP2wdz4/KGnjelL4MSfIAABCEAAAhCAwKsmYJ8eb26fiXE6SNor6l47tsdT2yC6/1JoTWnWq3KeX5ItjTnXPAmNihS8fdxcSS68Iwk/F+WPn9thVk4qgQihIRHaRm69qhW3edW9ZD+EBteeiDffyaMhFFTGwlD1AQoNJrxjYkdunCG0hk5Ymy4ihjjXmLdmrUTtKGNPGPvFzo3NQ2Fqcd700LZz1SDfPjYf5K5SlOKc2m3x3BSC0JBmgswP3SyaNlfpzShuvIfFM4/RMe11ixuzi7dwbD0YvJvgyep+5EeXOjapDYJM/jwAjwbbb3tDSPzHQ+Plxibl+/aZjfN6qMpJoWJi8qRRlj3vH5JPa/Jb49qkKXfF+UBBN4mGbHu5sU4xa86PdWrXZudtNuSusisHJtmOI0h0jemzo+YdBCAAAQhAAAIQeBsE7L44XwxyBTw2anK+rIkXnYdSutdOITTcFNbk5PTaChfSlJu81qkGaShyTHyVvblx8UWF0GjNzwV7RD05wBjIY9P+CRfxp8V2ruxeMnHvagumf9eoyA8jksRzNLTmnPD2sDZHQ11+LoQPOKf25c5v1fYxYsS3MdiDSzQPgjMf7UZg6kkoq14kY//5ffSq+HdVlD0dn7Hb1OvdyxXwTS7qzSDnRFKbpj2d16BQq9AgclfQNZCQo8HkNeih7aT+dPlbdjkaynKQL8ttPczHISKPjXIgno21Cl12Dc+LG2Lidtcwi/3G3DJZvx8hjwZn6HozMgvW+c5T8rKO0dH2usaNuSdivJf8alF+Vd0bofbTKrz6pDz+mtkNTJt8qVdzQ0i4AUX6YG+ESWO92Q5vnKpMR661H+wPKxZPZ7wR9MbktucEJpn+ajkRq7x6LnZLUjqsyG3CTTB9TJ/tL+8gAAEIQAACEIDA2yDQlMv1JE9f9S519oq6144ZQfoQ0t0r6t/ie2fv8+Z2LTRaHXtgbDw8naAuJ2HiO++khpLJD1iXczXYzf7R7iutwe7uJRPig584qe09czUcwjspoSaldqcQeOJDVeUR20fbbzfkwe53TXfNXtiZD/Ole61lEmFv5qyNZ/fUdHBEpGu31UuOABGv1+mj6ZvzN3EeCroPpzt5i5s+ikjatl0Gqd5neOqEGXeczbjkIiehhB1rU9793SA0bIcw3UWTNLF6M3IXrClnf2AuXPO1eWNV1siPxbnBmOu1PXeRioje6Ew5r+5GVY4WND+DLo73shU5IaOHtk1/R+SNWehtblZmGJ3nSdkm5+swlVhXIWfeovOpNybbXvcbb1PuDvVsZJ3DcfHOaC6bzK92/qPtOeVj68X2mncQgAAEIAABCEDgDRBoXsv56myYa+u9bC56ObSu5WfkeEkveWOYFDG2d9L9YHSvfS2/tpdky8sz5u//3svm5yU5OL42Jxh4ZM1DqzF7uoV9SBQ/IeJBLgsrkp9S93S7n7P7RruXjPQng2mMJ8zcmGodjzTrcuGFiei4E/OC2T7afrtige6LnU5327ub7y2TyN7XnTOdb8+LwevfakluG2r3RNt+fDiL5kMze3mnnGnb+Vs7ocEfUmweExmJpGrbQZT2bWYeDZ5J6eWfm9M8dZ4d8kXyy/ty2Ubj+lcrSmEmaoO66xShIWOhIbMYnV5ufroSmw25r5aktGjzDHwv6pN0/cE5SqVeN+qv5oaQkdDQxaMh/Y/mCTdeT0B+uJaL4prk9VzcCZsNWf/x6x7TN+qTSv8hAAEIQAACEIAABCAAAQikJ/AKQyf6EKOTWmioyclqUS6vHmw20GZNjtTVyXhq9Dc+KPX0D3GOBhsSkZCjwc134eRy2CvWnHi9OIX0QsPf4x05Oq7JvclaJNI4XglVcyug2D52i+mL94XPEIAABCAAAQhAAAIQgAAEXi+BgQsN5qmwcZeJuuUYtx819tuUi7jYZx2jo227rkGJoRPWUyHiUuT32T0BoZ/xQekXa2anThgvhujcGQaGmzX2zXeR+bRGvEineDnXfarDyQ+RZCm2bbOmPFSm77ZO4yUR6Vs4toWyc25ypz6+Qm+V9EuLkhCAwCsgkPTvc+T++QrG+PQhJPx7b/6te3qtXAkBCIw6gYR7Q9J+MrJHHfUx038IJBN4nUKDP9YMY3RSCw1edtWyHCx+sWf7vpuWLT8ezZ5CoVPRr/ggrb/ra1YeDcZYz1Jo8HrfkNvjHdn7rPFGGtsXZxkvZ/thY5PSCw0isbUzNikbn+elUDizp10YuPGytm025AYSb14FAbt58te2+d27AuGrGGjfB2HEzNAwNQa98XrrexdSNWD65WySua8pOvt7MMI5QoPC4RUCb5hAwr3BuYea+wVCwxteI29n6AMXGt4OakYKAQhAYJQJ2M0TQsPz5nHUhAYr2D5v3K/26jYPI17teBkYBCAAAQhAIAUBhIYUkCgCAQhAAALqFfRFTry8ts0zKfpPaWzYEYxSElDDdPXMP4btrhgkDR42g149GoatXykpv1wxnU88Gl6OOS1BAAIQgMDQE0BoGPopooMQgAAEhoGACg0aKqEeDggNPc+OGqZhqIR6OAybQY/QkHJmdT4RGlIC+3979+/bRNLHAbiP8kdEqRAVV52uQlRQIarQQYWooAsVpxQUFARRBIkiSG+RAgkXSKGIlKsIxSmiQFGKA6UgEgWRKFxQuEjxfbW2Z3ftOI4TvPnhfZBOduL17Mwzk1zm49lZhxEgQIBAHQQEDXXoZW0kQIDAbwuku+X0BQ1/voxv5bLTpKt8TeqVG/Fq8X18b5UOTMctbkZz82W8Svcuv3IrVtbTrYCL45tbjd79b67cLd0zPYUgh2/Cuv24s39KscdAd2+XdN6B99pO5f4V77Yifqw+imftW93OxpObj+JTXzVbu+u99wS/dGvw3i7pbjl9QcPyev/+M0X7R3o2rn13uicbJWhIIUn5uuMnV7M9bTZ79rRJZb3ZbMb20v14OsQx259n5215f57ZeHLnefz7JfmkkCuNxX6d3fhnLuvv0uvNr/HvYjpvdj/yQX2Tyn0Yn5rN2Fm+291vKdsf6HXslMdv+ZRpLAsayiqeEyBAgEDNBQQNNR8Amk+AAIGxCqRJVzloSM8frMevdLJ03Mxs99axxUaqC1O3OpdndI8tbiVbPqY3OEgT2ZUPg2aDKTBIE88hd6uZuRsf91Il0/um43/zjw7W8+ZK/EiHpvAgtbX0eForFcZ2J6Fum5LpsPoPChpS6PB0aSvpRCprYVB/lx0jC7QGjYmsv9PqmdQv3ct48rOkJykw6B4/7E5UPXcSSu+7HSvztw729+POpS7pLPljGsuChpzEEwIECBAgIGgwBggQIECgUoH9rdfxrD3xzj4p7p4qTc6y7998GTvt729F489OgFCe3OaT1Hvv80/J91u78d/Ko1jrzmXThLfzvlZ8ns/K6axEiNiKd+1y/47t7PQpFJh7Hd9SfVrN+Pz4r/bkspggpwltp05PFzfbQcn+l9SeIpRI51+4+rL45LvVjO/rL+PNap5cVOocZ7CiYVCDfq0+7EzSS6td8j6cmo0XS1sdx63n8bQ9LlIAlJWWJvvTsbyaOieitbsZa/OvY6d7wt4VKruxdj3ro+74aq7HclZud+K/s9Tp16XlznmzIvabG/GmPSbSGOk998LUbLx6u9veQyMPumae5+fvVqPzkMayoKGHxRcECBAgUG8BQUO9+1/rCRAgMHaBA7f5bU8ms4lgaUKZJmd//h3bpUUIaUJaDhp+rBSfLj+ZexRrq5vxvVl6U9aCzb87k9v25Qib8WamGw60P1XvTl67E8Fv3Yln+uT9wGM+YSwFDXca8XOI1P6H7vmztl6/H4236/Ftt9WeqA5527l+aVBfDKpw88PrWJ67Fk/yfu7YFysQIl/R8PTxZhQ9l0KF0riI3Vi7md5/OZbmV+Lfza/R390p2GmPk/xWq9PRvvwkff14M0uVuiFTKvPgYzHWUn2mIwuVinoOanXpe2ks5+Om9JqnBAgQIECgpgKChpp2vGYTIECgCoGfq3cPLjnPJ6ClCeUhk7PBk9vsuv50vXwxUezZJ2F3pbNqIruTQ3vFwu1Yyq7Tv74S39PEs3uXh3SOAwFDqmc+YSyChmIyephaK76/TXs4FHVcuHI33m+NPGU9rPAz+X5yOrztrdhZvDakv9OlDkXQ0FtWmtiXxkXW0uZmvLvzR1+5l+PZ/Hoe9ux/6FzK8mxlN9orDma6/Z31cXdsZa+VV0gc1t9FnVJ9Dt/rY2BHHDKWBx7rmwQIECBAoCYCgoaadLRmEiBAoHqB4tPjp4sbxafQaaI/aEVDPqnv1G745LbVXkL/cel+POuuWFhI1/eXlst/zm4XeX0l/lvPlvDfirX1TgiRLolI51hof+I9TOU4QUNRTmvva3xeeRRL7Q0Pp2NhpnfVRnHk+X6WnIqJeF99k3n7MoOvxQqANPHO91Q4ZtCQTtNqxo/NRjTudW7/mQUFL9rhQenyl8WNzmUy8xvxX7ZSZebv+LTaCSE6m2seJzw4zrGpklmW8bwTivSN5dIREa3NaFyfjYWZG9HYvJjBU097fEGAAAECBI4QEDQcAeRlAgQIEBhVoJioLa10rm/fb27FxwfpU+/SJ9eHTM4GTW53lh/F2ofy8vlW7CylMtOn5t2QY+ZuvJqbjnao0A04luZutyeC6a4O+TX3U9fad7g4fNo3etDwc/V5vFvdih+lNf7NtFdBOWAZlfIkx532Hg15gPRXvPnQ2U9hf28jGjfTZo6pb44TNGzF2vxKbH/ZK4KL1la8u9pdJdK9U0ekkGPubrya6V4y0R5Ts9Hp77T3QrpbynQsXP07Pg+9nKUYv8XdSUboiEPGcvmdzdX7xQqNmcKlfIznBAgQIEBgkgQEDZPUm9pCgACBMxVoxfbjNMksXT4wlX2Sm319sqAhhQ+Dlr4/Xdzq7oOwFx/vFOfs3H0ibRKYfX82GvlNEHbj451B9ey8v5hkHiNoeNsJMwbVcaHnzgbVddDp33WivJ9CYV/cWaKYUKc+7F0dkSb2pXFR2gzyoOW1aOSXoWxFI61qmerefaK1ESvp8pepYqPO2G20w4iD5WV1LupYvsyiGAMj9NcIQUO2ouFNCkvKPwcjFO8QAgQIECBwEQUEDRex19SZAAEC51Wg9TU+zt/qbgx4OZ7eex7/fvka/2T7JZQnWIdMzgZOSJtf49/F+/HsSgoHLsfT6/fjzerX4naZEbGzmF4v7m5RbPxYmni27fZie/lhLF29XHzS3J2kFpPM0YOGiP7yZuPJ9duxvLyR3ymj8i477RUNWYPK+ynM/BEvHryO7b2NeNO2LCbxA/s1DxXKQUPEgc1EL12LZ+1xVNyFIvPOg6X87hal1Qt9d4jIVlq8f3A7nqbLWfJAoqhjpUFDZpU2LE13x6h8QDgBAQIECBA4OwFBw9nZOzMBAgQIEDi3AoPDgXNb3bOr2CGhWblC2SVEa2kVzYP1noCsfJznBC6MQLp06tK1WJpvxPfDr0G7ME1SUQIExisgaBivp9IIECBAgMBECAgaRuzGoUFDujyke2nJ1YfxKbsZhn8ELrpAChrS6qBhm6Fe9LaqPwECJxIQNJyIzZsIECBAgMBkC6Sgoby3QXFZyWS3/ejW9QUI2WRr4ESrc9yTq6d8Gc3RDXAEgbEI7Od7oKQNWMdSrEIIEJgAAUHDBHSiJhAgQIAAgXELCBqGiY4aNAwrw2sEJkNg+3FnxU66s89ktEorCBD4XYHqgoa0pMq1W7/bR95PgAABAgQIECBA4FwKpFCy964y57KqKkWAwCkKVB80uHbrFLvTqQgQIECAAAECBAicnoCg4fSsnYnARRKoLmjoKrh26yINB3UlQIAAAQIECBAgMLpAuo3wi7d2Oh1dzZEEJl+g8qAhI3Tt1uQPJC0kQIAAAQIECBCon8Cv9YfR3jT25svYadav/VpMgMBggVMJGiypGozvuwQIECBAgAABAgQutsBufJq/0QkbDr0Dy8VuodoTIHB8AUHD8c28gwABAgQIECBAgACBTKC1FWt3/hA0GA0ECPQInErQ4NqtHnNfECBAgAABAgQIEJgIgebq3U7IMLcSP1oT0SSNIEBgDAKnEjS4dmsMPaUIAgQIECBAgAABAudMYGdxth00uL3lOesY1SFwxgKnEjREuHbrjPvZ6QkQIECAAAECBAiMXcBebGMnVSCBiRA4naDBtVsTMVg0ggABAgQIECBAgEBZQNBQ1vCcAIEkcCpBg2u3ErdHAgQIECBAgAABApMjIGiYnL7UEgLjFDiVoMG1W+PsMmURIECAAAECBAgQOHuB/b33sTwzHQtTs9HYOvv6qAEBAudH4FSCBknn+elwNSFAgAABAgQIECDwWwJ7jViaygKG7n9XX8a33yrQmwkQmDQBQcOk9aj2ECBAoBKBzXjT/YPyzWZE5H9k3o6Pe5WcMC/059vbxR+z3TqMa3fzn6v348nUbDx7vBG/8jOe4Mnm8wN1XFjMoM7Rv1THuUb8HHe1WpvRuD4bC5duxz9fxl248k4mcHY/syerr3ddKIH0/4CZP+LFg9ex3bxQtVdZAgROQUDQcArITkGAAIGLL3B2k5bjBQ3N+Pb2ZSzPXYt3R87zd2PtZvpE7jcDkzSJT5/uZY81Chr2Pzwqgpbz1u6L/8N3whac3c/sCSt85Nv29zZibf5+PLv3fvxh2ZFndwABAgQIHEeg8qDBtVvH6Q7HEiBA4LwK7MXHuWxSfiPWdiOitREr7Un18/jv1Kqc6jAdh69o6JtcHVG3fEXD/PrYJi7pcsE6BQ1RWtGwttU6Qt3LpyOQfl7O8md2vC3NQ8cqVuWMt6pKI0CAQO0Fqgsa0pKq9OmOa7dqP9gAECBwkQXSpCV98p8m9Bc7aKiiR2oZNFQBqczfFDgPP7O/2YS+twsa+kB8SYAAgXMsUH3Q4Nqtc9z9qkaAAIFRBZrx6UG2oqEvaPiz2ACsMwm4Ee/X1+N/2fX6U5fj1epu/Fh/FM+yXckv3Y70affgCUOaGB22YuHw1/PyUrh94LEciKSQJF02kT2WX++apMB8rhHfvzRi5eYfncsDLl2LV0ubcdglyUcHDc34tvo8Xl293Ckv/X/yt/a6aMaP9dexnOo4dTme3nsZ2+Uy0+Udc4341m5P9/xX7sa7zf7W9NUxK2/uYbzvO26Q++GrTSKam414c+9aPGn3z2w8ufkoPn7pP3dE80N/W57HvwOOG2n0pnaXx8SVG/Fq8X18Ly++SMctbkZz82XRP1duxcp6toyn/K8ZO2+fx6vr3TExNRtP7pTrWIzV9p4m5bd2n28/7oy/4vU+84HjIpX7V7zbivix+iieXcrK6Vh+6qnm0T+zA6o10rfaK4FmpuPJGC5haO2ux/sHt+Npux3Z74lbsby8Ufr5GvTzWv7Z7f19kcbk06Wt2N99Hys30zgf1I8jNddBBAgQIHACgeqChhNUxlsIECBA4OIKpD/w813Is4ndTBY4lCYFd963JxD5sT1LoNMkqnfiUIgc/npeXvlcPc/LQcKgiUv59e4ZU9DQ34ZuudlEZtC/4UFDK/5bvNZrkuo5c/eEG2vuxsd73clUKis9lvdLSBPpge251bkkpt2gIeVNzcar1SK9GOQ+OGjI2n1jcLt7xkDEz7d3Bx83dS0aJ7ksI7U7mZQfH6wXm4Cm4470ySbwfeM6L7MYR2kcrHwopxlpxKSxnIK7UcdFet90/G++tC9GOv/NlfiRTlHZ41a8S6HA1HQUQckJTrj1Mp6muvc9FuNo0M9r6XfKVO/vi3xMPngUK+3bLpaPLY/zE9TXWwgQIEBgZAFBw8hUDiRAgACBYQL5H/h//h3bzd34p72nw3QszG9Eq/k+XmUTiZnnsRPZZLJ7J4meSWYxiSomGeUzHvV6dmwxKRlpApQml8NWNGT1vv53fG7Pr1vxYyXdBeNRfB4wh0wTzIF7NKSJ1dzr+JY+yG814/Pjv9qT68PCi7JC//Nfq/e7E/Nr8b+3W/nE+deX9Xj3thSG5G2djoWbL2Onff6taPzZmYgl81/rD/Py3nxoxn52wtZefH7cDUhmisl0UZcj+ia1e2o2XixuxM+u2/7eZqwtrxefXqdx8uej+LSXcFvxPZmXg4Hi5Md+tr/1Op61J7YP41PqhxF9ymNseTW9OaK1uxlr86/b4zurUBrjHddWfJ7PnDsrESK24l3b/e/Yzg5OPkeOi8I5C/CeLm62+3v/S2rPScOq4xGOa0VDMlq4+jJ28u5uxvf1l/GmFGil2uXH9/zeSK92HvNjsv69+rx7N4Sv8f56Z5yXg7Led/qKAAECBMYpIGgYp6ayCBAgUGOB9Af+s5Vs/XaaEHU3ossDgM4kNR270DNhSO/p/YSyID3q9ezIKoKGh72Bwl43NMknjUUNs2fDgoZvS51AoWeVR3vC25kE9Xr0ljv4q734eKf73scbnVBg8IERaSKdBUFpUleqb++EuBMQtUOGVN5uI16065omy+mF7HF43+wsdlcAHPGJexFydNtUtmk/HxRylOsx+PmvL+/jzb0b8eTAJ9xpRUE2dLq3KB3qk5VfvlvJ5ViaX4l/N79Gs2TarsXm353Apr2qZDPedM/dCZO647Q7/kcfF4Xzwp0KblM6mK+y7+5/6BplfXv9fjTerse33dah43jw743e6uXHZCuEei4l6T3OVwQIECBQrYCgoVpfpRMgQKA2AukP/M6ENU2I0kQuBQAXMWjon9ymtgxeNj4saMhfOzCB/o2gobtyJK1IOHTApYl0T7hTBCO9/TYo7BnW7tTfg95XnGPgKo9ShdMYOjSIGbTypPT+QU9/rh52KUZmnsZnKWgY6tM9Q3Mz3t1J+zOkUORyPCvfvWR3pbNqYn4j9tsrFm7HUtZX11fie7osJ3utFPYc2u68TsOdB7X/fH+vFd/fpn0mkuN0LFy5G+8HXCaTj4/c42DrRjnm4Lt8hwABAgTGLSBoGLeo8ggQIFBTgfQHfu+ENU3k0iR1WNBQLG8ePGkeZZKVzjM4BDjQNWnyPWgCmyaD/a/ly9Rvxz8DPjHNw4Ty/gjdE+evPd48UJWTfaMwWRh1RUPfJC3VqWOelvgPWtHQnTinW5z2VLiox6C+S+dYOGJFQxpDx1/Z0VOZ0hfpEoXsMoONYtVB3rdpfB4zaEhnaDXjx2YjGveK/SdetFf0RERzPZazQGmuEZ9XbrQDhv/al6XcirX1jmW6VCb3OXJcDHdO1bqIj629r/F55VEspf0fZnpX3mRtGmV8jHLMRfRRZwIECFw0AUHDResx9SVAgMA5FUh/4I8SNOTL1GcexefsMvfm11grbWg4aLJ61PL8DktpYvl4I9+v4FCykYKGv/NLJ/azT7JvDr8MIJ80DggaiksDrrXvZNC/2v7Qeg554fty2lxywB4Ni+/jZ3pvauvQoKE0mZu6FsUeDbvxz51uu6++ju+pzPxx+AS4aPeAPRpK+xrkexVkm06ubBXBQH6e4z4pgqelld326oH95lZ8fJDMThI0bMXa/Epsf9mLvP9aW/HuavcT+bzfu2Nx5m68mpuOdqjQDTiW5jr7fCyvd/Z4KHyOGhfDnY+rc9Ljx7ZHw+rzeLe6FT9K1500V9MeIaW+6Va0cBoc8mWHpd9D4wurTqrkfQQIEKi3gKCh3v2v9QQIEBibQPoDf6SgIfu098D18rPx5FJnMlsEDcXEavCy8v7JSLZ7/6B9EEqXP6QJ92GXL6SJYv6pd2lJd3rPzI1obObTzGJfhvR632OxMeVufEwT9r5jsvYVxx2jW1qb8SZNcvvLLIcKqd3l75WW7efmra1oHFZeFj7k7T5O3wxrd6lvYiUmTpIAAA54SURBVMjdF/ruLjCaUCu2H3cDkh6b2Vhoj7/S+BnVp7QPyMExWb4zRmn/jKnp6Nx9YjfWupsSZrekbOR7dQ7zKY+Lwjzvr9EgxnjU+O46kX5nHHScjoU7pZAs1f6Qn8myRV5m3zhPRXgkQIAAgdMREDScjrOzECBAYOIF0h/4nT/604QoTeTSJ8vFpLK19TqWrnQngVfuxpvVr/G9ezeKYuKQyhkw2W9PHFP5Zd7d+LR4P56mJdjt44rz5qspeiaepfIPBA2X40kq69K1WHrwOraLOzy2T5yvYjikzN4AYS+2lx/G0tWDt6TsPa7cpqOe95U580e86K/nyBPp7C4Tu/F56X48S/0zqLzSBpADJ4rl/Q/a1W/Gt9Xn8ep62tvgcjy99zz+/VLcuaHTyv7jir4pxsVRHqXXW1/j4/yteNLum3TOr927opTGzzF8DmwueelaPBvQlnwTzKni7hbFxo/9d4jo68PSWCrGRfHzcCKLEsvvPB3XioZslVLvz8JsPLl+O5aXN4o7kfRV9NfWSizfTGOoMzbKFun3kBUNfXC+JECAwCkLCBpOGdzpCBAgQOCCCOSfnpZCigtSddUkQIAAAQIECJylgKDhLPWdmwABAgTOr4Cg4fz2jZoRIECAAAEC51pA0HCuu0flCBAgQODMBM4oaMiXfpeWzg++NKGmKy3yfikuqRjsU97b4MxGkRMTIECAAIFaCggaatntGk2AAAECRwrkE9rTndALGo7ombxfBA1HSHmZAAECBAicmYCg4czonZgAAQIECBAgQIAAAQIECEyegKBh8vpUiwgQIECAAAECBAgQIECAwJkJCBrOjN6JCRAgQIAAAQIECBAgQIDA5AkIGiavT7WIAAECBAgQIECAAAECBAicmYCg4czonZgAAQIECBAgQIAAAQIECEyegKBh8vpUiwgQIECAAAECBAgQIECAwJkJCBrOjN6JCRAgQIAAAQIECBAgQIDA5AkIGiavT7WIAAECBAgQIECAAAECBAicmYCg4czonZgAAQIECBAgQIAAAQIECEyegKBh8vpUiwgQIECAAAECBAgQIECAwJkJCBrOjN6JCRAgQIAAAQIECBAgQIDA5AkIGiavT7WIAAECBAgQIECAAAECBAicmYCg4czonZgAAQIXSGCvEUtT07Fw6VoszTfie+sC1V1VCRAgQIAAAQIETlVA0HCq3E5GgACBCyqQgoYsbMj+m2vEzwvaFNUmQIAAAQIECBCoVkDQUK2v0gkQIDBRAvu7jXg1k4UNf8W7rYlqmsYQIECAAAECBAiMSUDQMCZIxRAgQKAuAtuPO6saltebdWmydhIgQIAAAQIECBxDQNBwDCyHEiBAgEDEf4udoGHp7R4OAgQIECBAgAABAgcEBA0HSHyDAAECBIYJCBqG6XiNAAECBAgQIEBA0GAMECBAgMCxBL4t/dXeEPLF291jvc/BBAgQIECAAAEC9RAQNNSjn7WSAAECYxP4tf6wc+eJmy9jxzYNY3NVEAECBAgQIEBgUgQEDZPSk9pBgACBUxPYjU/zNzphg1tdnpq6ExEgQIAAAQIELoqAoOGi9JR6EiBA4LwItLZi7c4fgobz0h/qQYAAAQIECBA4ZwKChnPWIapDgACB8y7QXL3bCRnmVuJH67zXVv0IECBAgAABAgROW0DQcNrizkeAAIELLrCzONsOGtze8oJ3pOoTIECAAAECBCoSEDRUBKtYAgQITKqA21tOas9qFwECBAgQIEBgPAKChvE4KoUAAQK1ERA01KarNZQAAQIECBAgcCIBQcOJ2LyJAAEC9RUQNNS377WcAAECBAgQIDCKgKBhFCXHECBAgEBbYH/vfSzPTMfC1Gw0tqAQIECAAAECBAgQOCggaDho4jsECBAg0C+w14ilqSxg6P539WV86z/G1wQIECBAgAABAgQiQtBgGBAgQIDA0QIpaJj5I148eB3bzaPf4ggCBAgQIECAAIF6Cgga6tnvWk2AAAECBAgQIECAAAECBCoREDRUwqpQAgQIECBAgAABAgQIECBQTwFBQz37XasJECBAgAABAgQIECBAgEAlAoKGSlgVSoAAAQIECBAgQIAAAQIE6ikgaKhnv2s1AQIECBAgQIAAAQIECBCoREDQUAmrQgkQIECAAAECBAgQIECAQD0FBA317HetJkCAAAECBAgQIECAAAEClQgIGiphVSgBAgQIECBAgAABAgQIEKingKChnv2u1QQIECBAgAABAgQIECBAoBIBQUMlrAolQIAAAQIECBAgQIAAAQL1FBA01LPftZoAAQIECBAgQIAAAQIECFQiIGiohFWhBAgQIECAAAECBAgQIECgngKChnr2u1YTIECAAAECBAgQIECAAIFKBAQNlbAqlAABAgQIECBAgAABAgQI1FNA0FDPftdqAgQIECBAgAABAgQIECBQiYCgoRJWhRIgQIAAAQIECBAgQIAAgXoKCBrq2e9aTYAAAQIECBAgQIAAAQIEKhEQNFTCqlACBAgQIECAAAECBAgQIFBPAUFDPftdqwkQIECAAAECBAgQIECAQCUCgoZKWBVKgAABAgQIECBAgAABAgTqKSBoqGe/azUBAgQIECBAgAABAgQIEKhEQNBQCatCCRAgQIAAAQIECBAgQIBAPQUEDfXsd60mQIAAAQIECBAgQIAAAQKVCAgaKmFVKAECBAgQIECAAAECBAgQqKeAoKGe/a7VBAgQIECAAAECBAgQIECgEgFBQyWsCiVAgAABAgQIECBAgAABAvUUEDTUs9+1mgABAgQIECBAgAABAgQIVCIgaKiEVaEECBAgQIAAAQIECBAgQKCeAoKGeva7VhMgQIAAAQIECBAgQIAAgUoEBA2VsCqUAAECBAgQIECAAAECBAjUU0DQUM9+12oCBAgQIECAAAECBAgQIFCJgKChElaFEiBAgAABAgQIECBAgACBegoIGurZ71pNgAABAgQIECBAgAABAgQqERA0VMKqUAIECBAgQIAAAQIECBAgUE8BQUM9+12rCRAgQIAAAQIECBAgQIBAJQKChkpYFUqAAAECBAgQIECAAAECBOopIGioZ79rNQECBAgQIECAAAECBAgQqERA0FAJq0IJECBAgAABAgQIECBAgEA9BQQN9ex3rSZAgAABAgQIECBAgAABApUICBoqYVUoAQIECBAgQIAAAQIECBCop4CgoZ79rtUECBAgQIAAAQIECBAgQKASAUFDJawKJUCAAAECBAgQIECAAAEC9RQQNNSz37WaAAECBAgQIECAAAECBAhUIiBoqIRVoQQIECBAgAABAgQIECBAoJ4CgoZ69rtWEyBAgAABAgQIECBAgACBSgQEDZWwKpQAAQIECBAgQIAAAQIECNRTQNBQz37XagIECBAgQIAAAQIECBAgUImAoKESVoUSIECAAAECBAgQIECAAIF6Cgga6tnvWk2AAAECBAgQIECAAAECBCoREDRUwqpQAgQIECBAgAABAgQIECBQTwFBQz37XasJECBAgAABAgQIECBAgEAlAoKGSlgVSoAAAQIECBAgQIAAAQIE6ikgaKhnv2s1AQIECBAgQIAAAQIECBCoREDQUAmrQgkQIECAAAECBAgQIECAQD0FBA317HetJkCAAAECBAgQIECAAAEClQgIGiphVSgBAgQIECBAgAABAgQIEKingKChnv2u1QQIECBAgAABAgQIECBAoBIBQUMlrAolQIAAAQIECBAgQIAAAQL1FBA01LPftZoAAQIECBAgQIAAAQIECFQiIGiohFWhBAgQIECAAAECBAgQIECgngKChnr2u1YTIECAAAECBAgQIECAAIFKBAQNlbAqlAABAgQIECBAgAABAgQI1FNA0FDPftdqAgQIECBAgAABAgQIECBQiYCgoRJWhRIgQIAAAQIECBAgQIAAgXoKCBrq2e9aTYAAAQIECBAgQIAAAQIEKhEQNFTCqlACBAgQIECAAAECBAgQIFBPAUFDPftdqwkQIECAAAECBAgQIECAQCUCgoZKWBVKgAABAgQIECBAgAABAgTqKSBoqGe/azUBAgQIECBAgAABAgQIEKhEQNBQCatCCRAgQIAAAQIECBAgQIBAPQUEDfXsd60mQIAAAQIECBAgQIAAAQKVCAgaKmFVKAECBAgQIECAAAECBAgQqKeAoKGe/a7VBAgQIECAAAECBAgQIECgEgFBQyWsCiVAgAABAgQIECBAgAABAvUUEDTUs9+1mgABAgQIECBAgAABAgQIVCIgaKiEVaEECBAgQIAAAQIECBAgQKCeAoKGeva7VhMgQIAAAQIECBAgQIAAgUoEBA2VsCqUAAECBAgQIECAAAECBAjUU0DQUM9+12oCBAgQIECAAAECBAgQIFCJgKChElaFEiBAgAABAgQIECBAgACBegoIGurZ71pNgAABAgQIECBAgAABAgQqERA0VMKqUAIECBAgQIAAAQIECBAgUE8BQUM9+12rCRAgQIAAAQIECBAgQIBAJQKChkpYFUqAAAECBAgQIECAAAECBOopIGioZ79rNQECBAgQIECAAAECBAgQqERA0FAJq0IJECBAgAABAgQIECBAgEA9BQQN9ex3rSZAgAABAgQIECBAgAABApUICBoqYVUoAQIECBAgQIAAAQIECBCop4CgoZ79rtUECBAgQIAAAQIECBAgQKASAUFDJawKJUCAAAECBAgQIECAAAEC9RQQNNSz37WaAAECBAgQIECAAAECBAhUIiBoqIRVoQQIECBAgAABAgQIECBAoJ4CgoZ69rtWEyBAgAABAgQIECBAgACBSgQEDZWwKpQAAQIECBAgQIAAAQIECNRTQNBQz37XagIECBAgQIAAAQIECBAgUImAoKESVoUSIECAAAECBAgQIECAAIF6Cgga6tnvWk2AAAECBAgQIECAAAECBCoR+D8HgciQqJRJggAAAABJRU5ErkJggg==)"
      ]
    },
    {
      "cell_type": "markdown",
      "metadata": {
        "id": "riKeyEso98od"
      },
      "source": [
        "```\n",
        "{\n",
        "  'question_type': 'what is this', \n",
        "  'multiple_choice_answer': 'net', \n",
        "  'answers': \n",
        "  [\n",
        "  {'answer': 'net', 'answer_confidence': 'maybe', 'answer_id': 1},  \n",
        "  {'answer': 'net', 'answer_confidence': 'yes', 'answer_id': 2}, \n",
        "  {'answer': 'net', 'answer_confidence': 'yes', 'answer_id': 3}, \n",
        "  {'answer': 'netting', 'answer_confidence': 'yes', 'answer_id': 4}, \n",
        "  {'answer': 'net', 'answer_confidence': 'yes', 'answer_id': 5}, \n",
        "  {'answer': 'net', 'answer_confidence': 'yes', 'answer_id': 6}, \n",
        "  {'answer': 'mesh', 'answer_confidence': 'maybe', 'answer_id': 7}, \n",
        "  {'answer': 'net', 'answer_confidence': 'yes', 'answer_id': 8}, \n",
        "  {'answer': 'net', 'answer_confidence': 'yes', 'answer_id': 9}, \n",
        "  {'answer': 'net', 'answer_confidence': 'yes', 'answer_id': 10}\n",
        "  ], \n",
        "  'image_id': 458752, \n",
        "  'answer_type': 'other', \n",
        "  'question_id': 458752000\n",
        "} \n",
        "```"
      ]
    },
    {
      "cell_type": "code",
      "metadata": {
        "colab": {
          "base_uri": "https://localhost:8080/"
        },
        "id": "zzcntrMIDaDY",
        "outputId": "cb6d15c7-e2c9-47a0-8e5c-37740a54e7ee"
      },
      "source": [
        "if __name__ == \"__main__\":\n",
        "  make_q_vocab()\n",
        "  make_a_vocab(top_answer)"
      ],
      "execution_count": null,
      "outputs": [
        {
          "output_type": "stream",
          "text": [
            "<_io.TextIOWrapper name='/content/dataset/original/Questions/v2_OpenEnded_mscoco_test-dev2015_questions.json' mode='r' encoding='UTF-8'>\n",
            "<_io.TextIOWrapper name='/content/dataset/original/Questions/v2_OpenEnded_mscoco_test2015_questions.json' mode='r' encoding='UTF-8'>\n",
            "<_io.TextIOWrapper name='/content/dataset/original/Questions/v2_OpenEnded_mscoco_val2014_questions.json' mode='r' encoding='UTF-8'>\n",
            "<_io.TextIOWrapper name='/content/dataset/original/Questions/v2_OpenEnded_mscoco_train2014_questions.json' mode='r' encoding='UTF-8'>\n",
            "total word:17777\n",
            "The number of total words of answers: 26480\n",
            "Keep top ['<unk>', 'yes', 'no', '1', '2', 'white', '3', 'blue', 'red', 'black', '0', '4', 'brown', 'green', 'yellow', '5', 'gray', 'right', 'nothing', 'frisbee', 'left', 'baseball', 'tennis', '6', 'orange', 'none', 'wood', 'pizza', 'bathroom', 'pink', 'kitchen', '10', '8', 'cat', '7', 'man', 'water', 'grass', 'dog', 'skiing', 'skateboarding', 'black and white', 'kite', 'surfing', 'silver', 'horse', 'phone', 'living room', 'skateboard', 'giraffe', 'snow', 'food', 'woman', 'wii', 'cake', 'surfboard', 'standing', 'eating', 'broccoli', 'apple', 'sunny', 'table', 'purple', 'stop', 'laptop', 'hat', 'elephant', 'train', '12', '9', 'bus', 'sheep', 'motorcycle', 'soccer', 'snowboarding', 'beach', 'banana', '20', 'umbrella', 'cow', 'winter', 'male', 'walking', 'trees', 'wine', 'sitting', 'tan', 'outside', 'camera', 'bear', 'metal', 'many', 'flowers', 'tile', 'clear', 'sandwich', 'brick', 'female', 'car', 'summer', '11', 'hot dog', 'cloudy', 'night', 'plane', 'donut', 'bird', 'bedroom', 'zebra', 'bench', 'down', 'bananas', 'bed', 'cheese', 'wall', 'plate', '15', 'beer', 'fork', 'people', 'red and white', 'fence', 'tree', 'street', 'boat', 'helmet', 'tv', 'bat', 'sand', 'kites', 'chair', 'horses', '25', 'bike', 'skis', 'up', 'afternoon', 'cows', 'couch', 'glass', 'birthday', 'dirt', 'truck', 'floor', 'building', 'coffee', 'nike', 'ball', 'tennis racket', 'zoo', 'suitcase', 'airport', 'snowboard', 'square', 'stripes', 'boy', 'playing wii', '13', 'ocean', 'concrete', 'teddy bear', 'knife', 'city', 'no one', 'usa', 'round', 'english', 'girl', 'blonde', 'donuts', 'fruit', 'toilet', 'oak', 'clock', 'ground', 'open', 'plastic', 'flying kite', 'airplane', 'tie', '30', 'park', 'old', 'carrots', 'glasses', 'sidewalk', 'christmas', 'evening', 'field', 'toothbrush', 'blue and white', 'paper', 'remote', 'fall', 'scissors', '50', 'wii remote', 'day', 'chinese', 'mountains', 'cooking', 'chicken', 'spoon', 'mirror', 'office', 'chocolate', 'plaid', 'africa', 'cold', 'picture', 'breakfast', 'palm', 'light', 'computer', 'window', 'shirt', 'dell', 'restaurant', 'mountain', 'sleeping', 'vegetables', 'cell phone', 'elephants', 'sky', 'sun', 'stone', 'tomato', 'person', 'clouds', 'carpet', 'happy', 'lettuce', 'noon', 'rectangle', 'short', 'daytime', '14', 'wedding', 'fire hydrant', 'closed', 'nowhere', 'on table', 'ski poles', 'sunglasses', 'leaves', 'american', 'solid', 'birds', 'lot', 'apples', 'counter', 'small', 'unknown', 'playing', 'overcast', 'desk', 'house', 'wetsuit', 'shorts', '100', 'inside', 'fish', 'backpack', 'microwave', 'carrot', 'very', '16', 'asian', 'home', 'beige', 'oranges', 'both', 'dinner', 'morning', 'jeans', 'pepperoni', 'graffiti', 'salad', 'luggage', 'sign', 'passenger', 'color', 'pine', 'playing tennis', 'brown and white', 'england', 'bicycle', 'towel', 'hay', 'resting', 'books', 'bag', 'floral', 'on', 'refrigerator', 'gold', 'adidas', 'london', 'zebras', 'baby', 'racket', '24', 'circle', 'sink', 'rainbow', 'bowl', 'wii controller', 'bread', 'police', 'giraffes', 'milk', 'road', 'spinach', 'glove', 'spring', 'box', 'catcher', 'real', 'hair', 'vase', 'motorcycles', 'flower', 'child', 'soup', 'bridge', 'lights', 'rocks', 'blanket', 'brushing teeth', 'rain', 'watch', 'new york', 'in air', 'cars', 'safety', 'wilson', 'talking on phone', 'church', 'middle', 'background', 'on wall', 'jacket', 'windows', 'mouse', 'book', 'sneakers', '18', 'shadow', 'striped', 'drinking', 'coca cola', 'neither', 'hand', 'electric', 'leather', 'playing frisbee', 'pole', 'shoes', 'rainy', 'gas', 'umbrellas', 'tabby', 'talking', 'lunch', 'flying', 'china', 'off', 'keyboard', 'hot dogs', 'seagull', 'ketchup', 'roses', 'grazing', 'collar', 'tennis court', 'checkered', 'kite flying', 'batter', 'photographer', 'white and blue', 'young', 'forward', 'posing', 'in water', 'train station', 'rug', 'reading', 'smiling', 'lab', 'lamp', 'sandals', 'triangle', 'oven', 'stove', 'dessert', 'controller', 'plant', 'texting', 'clothes', 'front', 'umpire', 'wire', 'tracks', 'long', 'taking off', 'lake', 'door', 'surfboards', 'large', 'jumping', 'rock', 'on left', 'pitcher', 'parking lot', 'rope', '17', 'school', 'goggles', 'double decker', '200', 'top', 'heart', 'rose', 'hotel', 'taking picture', 'meat', 'ceramic', 'head', 'purse', 'modern', 'cup', 'good', 'boots', 'peppers', 'running', 'on plate', 'clean', 'sunset', 'pictures', 'canada', 'branch', 'soda', 'toilet paper', 'river', 'skate park', 'straight', 'lemon', 'bears', 'electricity', 'ford', 'shade', '40', 'outdoors', 'red and yellow', 'beef', 'parking', 'downhill', 'turkey', 'vanilla', 'warm', 'away', 'indoors', 'red and black', 'oval', 'paint', 'on ground', 'olives', 'adult', 'basket', 'decoration', 'jet', 'pillow', 'shelf', 'fries', 'red and blue', 'gloves', 'flag', 'calm', 'pepsi', 'bottle', 'blue and yellow', 'stop sign', 'go', 'boats', 'north', 'water skiing', 'van', 'ham', 'watching', 'hot', 'parking meter', 'laying down', 'ponytail', 'batting', 'trash can', 'mustard', 'riding', 'raining', 'toy', 'new', 'star', 'wild', 'strawberries', 'blinds', 'landing', 'delta', 'bikes', 'asphalt', 'cutting board', 'honda', 'tomatoes', 'bottom', 'necklace', 'daisy', 'slow', 'octagon', '22', 'guitar', 'men', 'fridge', 'dining room', 'tennis ball', 'headband', 'one way', 'smoke', 'ski', 'cargo', 'fishing', 'ceiling', 'rice', 'dogs', 'back', '2 feet', 'united', 'tea', 'planes', 'strawberry', 'suit', 'blender', 'terrier', 'carriage', 'playing baseball', 'cutting', 'orange and white', 'flying kites', 'green and white', 'wind', '21', 'full', 'clay', 'wooden', 'on desk', 'scarf', 'white and red', 'sausage', 'a', 'farm', 'dry', 'diamond', 'collie', 'swimming', 'white and black', 'high', 'cross', 'orange juice', '23', 'tower', 'big', 'samsung', 'america', 'plants', 'waves', 'parasailing', 'ramp', 'fan', 'fire', 'human', 'work', 'market', 'ice cream', 'india', 'store', 'dress', 'cotton', 'helmets', 'on bed', 'headphones', 'hats', 'harley', 'smile', 'clock tower', 'ducks', '19', 'bacon', 'protection', 'granite', 'dirty', 'sugar', 'steam', 'urban', 'no parking', 'bracelet', 'skateboarder', 'skateboards', 'steel', 'coke', 'onions', 'candles', 'sparrow', 'gray and white', 'above', 'on sidewalk', 'polar', 'hit ball', 'duck', 'air', 'marble', 'sweater', 'seagulls', 'wine glass', 'tulips', 'surf', 'pot', 'cutting cake', 'african', 'polo', 'p', 'handle', 'tall', 'sad', 'butter', 'dusk', 'beard', 'parked', 'surfer', 'chairs', 'moving', 'bakery', 'trash', 'curtain', 'cumulus', 'fork and knife', 'yellow and blue', 'parade', 'cloth', 'reflection', 'chain link', 'typing', 'grapes', 'united states', 'big ben', 'face', '28', 'military', 'eggs', 'dunkin donuts', 'bricks', 'cart', 'poles', 'football', '35', 'catching', 'chef', 'stainless steel', 'flip flops', 'pasta', 'fire truck', 'hands', 'all', 'buildings', 'bow', 'driving', 'twin', 'potatoes', 'pan', 'bmw', 'scooter', 'medium', 'apartment', 'painting', '27', 'paddle', 'shower', 'green and yellow', 'toyota', 'low', 'ski lift', 'german', 'east', 'pen', 'bar', 'bicycles', 'sauce', 'porcelain', 'plain', 'japan', 'mercedes', 'nighttime', 'napkin', 'soccer ball', 'bandana', 'jump', 'cement', 'calico', 'family', 'yellow and white', 'stairs', 'party', 'pepper', 'cowboy', 'forest', 'very tall', 'italian', 'baseball field', 'at camera', 'fast', 'transportation', 'hp', 'eagle', 'multi', 'polar bear', 'towels', 'pants', 'soap', 'asia', 'dock', 'parrot', 'italy', 'mozzarella', 'on floor', 'public', '10 feet', 'lighthouse', 'german shepherd', 'desktop', 'mushrooms', 'dodgers', 'cats', 'golden retriever', 'behind', 'on counter', 'w', 'candle', 'serving', '3 feet', 'working', 'sony', 'on right', 'tag', 'ring', 'poodle', 'steak', 'chopsticks', 'business', 'sailboat', 'south', 'game', 'asparagus', 'station', 'basketball', '60', 'tray', 'stuffed animal', '38', 'california', 'curtains', 'france', 'white and brown', 'indian', 'women', 'swan', 'boston', 'straw', 'queen', 'pork', 'juice', 'sprinkles', 'phones', 'little', 'b', 'giants', 'fedex', '26', 'bun', 'halloween', 'suv', 'baseball bat', 'fake', 'hydrant', 'chicago', 'pelican', 'nokia', 'shoe', 'shallow', 'on tracks', 'boating', 'roof', 'sandwiches', 'owl', 'balance', 'c', 'looking', 'cookies', 'crosswalk', 'yellow and red', 'squares', 'laying', 'siamese', 'harley davidson', 'newspaper', 'fireplace', 'roman', 'cone', 'west', 'starbucks', 'bulldog', 'net', 'red sox', 'on building', 'on street', 'red and green', 'stick', 'museum', 'pug', 'dark', 'yamaha', 'half', 'walk', 'french', 'parsley', 'pigeon', 'red white and blue', 'kia', 'bowling', 'crane', 'waiting', 'black and yellow', 'kids', 'foreground', 'on grass', 'natural', 'pickle', 'playing game', 'art', 'wave', 'visor', 'smoothie', 'traffic', 'basil', 'north america', 'frosting', 'bus stop', 'fabric', 'beans', 'fur', 'drywall', 'finch', 'wet', 'pillows', 'statue', 'bags', 'fedora', 'green beans', 'cleaning', 'teddy bears', 'hair dryer', 'yellow and black', '45', 'cucumber', 'corn', 'watching tv', 'cabinet', 'downtown', 'magnets', 'egg', '55', 'microphone', 'commercial', 'mutt', 'map', 'vest', 'wool', 'butterfly', 'desert', 'lilies', 'vertical', 'signs', 'mask', 'cross country', '2012', 'nobody', 'fun', 'bell', 'serve', 'europe', 'navy', 'log', 'words', 'broken', 'cherry', 'tired', 'sunlight', 'runway', 'germany', 'gothic', 'out', 'glazed', 'tank top', 'bathtub', 'tennis rackets', 'black and red', 'boxes', 'plaster', 'in bowl', 'rural', 'cigarette', '33', '5 years', 'pineapple', 'laptops', 'cleats', 'country', 'vegetable', 'army', 'lg', 'library', 'outdoor', 'drink', 'empty', 'gravel', 'skier', '2010', 'corner', 'hungry', 'peas', 'cupcakes', 'cheesecake', 'brush', 'children', 'engine', 'wires', 'air canada', 'pitching', 'washington', 'monkey', 'pie', 's', 'traffic light', 'bull', 'circles', 'bucket', 'apron', 'barn', 'candy', 'bush', 'private', 'stuffed animals', 'skating', 'san francisco', 'daisies', 'peace', 'blue and green', 'harness', 'beanie', 't', 'french fries', 'bushes', 'on pole', 'lufthansa', 'jeep', 'krispy kreme', 'deer', 'watermelon', 'skirt', 'tiger', 'kiwi', 'shrimp', 'air force', 'no number', 'hospital', 'tattoo', 'swinging', 'string', 'horns', 'foil', 'bottles', 'vases', 'wheat', 'pink and white', 'geese', 'pancakes', 'railing', 'e', 'spanish', 'grill', 'racing', 'logo', 'window sill', 'lap', '44'] answers into vocab\n"
          ],
          "name": "stdout"
        }
      ]
    },
    {
      "cell_type": "code",
      "metadata": {
        "id": "BI111MA334dj"
      },
      "source": [
        "import glob\n",
        "import re\n",
        "import json\n",
        "import numpy as np\n",
        "import os"
      ],
      "execution_count": null,
      "outputs": []
    },
    {
      "cell_type": "code",
      "metadata": {
        "id": "yQozMKVU6O8f"
      },
      "source": [
        "question_dir = '/content/dataset/original/Questions'\n",
        "annotation_dir = '/content/dataset/original/Annotations'\n",
        "output_dir = '/content/dataset/preprocessed'"
      ],
      "execution_count": null,
      "outputs": []
    },
    {
      "cell_type": "code",
      "metadata": {
        "id": "6v_VT8iW3pa4"
      },
      "source": [
        "def match_top_ans(annotation_ans):\n",
        "    annotation_dir = output_dir + '/Annotations/annotation_vocabs.txt'\n",
        "    with open(annotation_dir, 'r') as f:\n",
        "      top_ans = [line.strip() for line in f]\n",
        "    if annotation_ans not in top_ans:\n",
        "      annotation_ans = '<unk>'\n",
        "      match_top_ans.unk_ans += 1\n",
        "    return annotation_ans"
      ],
      "execution_count": null,
      "outputs": []
    },
    {
      "cell_type": "code",
      "metadata": {
        "id": "0D8jX-MY3250"
      },
      "source": [
        "def preprocessing(question, annotation_dir, labeled):\n",
        "  with open(question, 'r') as f:\n",
        "    data = json.load(f)\n",
        "    questions = data['questions']\n",
        "    if (data['data_subtype'] == 'test-dev2015'):\n",
        "      filename = 'test2015'\n",
        "    else:\n",
        "      filename = data['data_subtype']\n",
        "\n",
        "  if labeled: # false : if the file that came from questions directory is a json test file\n",
        "              # true : if val or train\n",
        "    template = annotation_dir + f'/*{filename}*.json'\n",
        "    annotation_path = glob.glob(template)[0]\n",
        "    with open(annotation_path) as f:\n",
        "      annotations = json.load(f)['annotations']\n",
        "    question_dict = {ans['question_id']: ans for ans in annotations}\n",
        "\n",
        "  match_top_ans.unk_ans = 0\n",
        "  dataset = [None]*len(questions)\n",
        "  for idx, qu in enumerate(questions):\n",
        "    if (idx+1) % 10000 == 0:\n",
        "      print(f'processing {data[\"data_subtype\"]} data: {idx+1}/{len(questions)}')\n",
        "    qu_id = qu['question_id']\n",
        "    qu_sentence = qu['question']\n",
        "    img_id = qu['image_id']\n",
        "    img_name = 'COCO_' + filename + '_{:0>12d}.jpg'.format(img_id)\n",
        "\n",
        "    info = [img_name, qu_sentence]\n",
        "    if labeled:\n",
        "        annotation_ans = question_dict[qu_id]['multiple_choice_answer']\n",
        "        ans = match_top_ans(annotation_ans)\n",
        "        info.append(ans)\n",
        "        \n",
        "    dataset[idx] = info\n",
        "  print(f'total {match_top_ans.unk_ans} out of {len(questions)} answers are <unk>')\n",
        "  return dataset    \n"
      ],
      "execution_count": null,
      "outputs": []
    },
    {
      "cell_type": "code",
      "metadata": {
        "colab": {
          "base_uri": "https://localhost:8080/"
        },
        "id": "g9_9hJPK3-UW",
        "outputId": "9e379314-e4d1-40af-cb4c-af5bb0b190e8"
      },
      "source": [
        "processed_data = {}\n",
        "for file in os.listdir(question_dir):\n",
        "  try:\n",
        "    datatype = file[20:-19]\n",
        "    print(datatype)\n",
        "    labeled = False if \"test\" in datatype else True\n",
        "    question = os.path.join(question_dir, file)\n",
        "    processed_data[datatype] = preprocessing(question, annotation_dir, labeled)\n",
        "    #print(processed_data.keys())\n",
        "  except(IOError, SyntaxError):\n",
        "    pass\n",
        "\n",
        "print(processed_data['train'][:3])"
      ],
      "execution_count": null,
      "outputs": [
        {
          "output_type": "stream",
          "text": [
            "test-dev\n",
            "processing test-dev2015 data: 10000/107394\n",
            "processing test-dev2015 data: 20000/107394\n",
            "processing test-dev2015 data: 30000/107394\n",
            "processing test-dev2015 data: 40000/107394\n",
            "processing test-dev2015 data: 50000/107394\n",
            "processing test-dev2015 data: 60000/107394\n",
            "processing test-dev2015 data: 70000/107394\n",
            "processing test-dev2015 data: 80000/107394\n",
            "processing test-dev2015 data: 90000/107394\n",
            "processing test-dev2015 data: 100000/107394\n",
            "total 0 out of 107394 answers are <unk>\n",
            "test\n",
            "processing test2015 data: 10000/447793\n",
            "processing test2015 data: 20000/447793\n",
            "processing test2015 data: 30000/447793\n",
            "processing test2015 data: 40000/447793\n",
            "processing test2015 data: 50000/447793\n",
            "processing test2015 data: 60000/447793\n",
            "processing test2015 data: 70000/447793\n",
            "processing test2015 data: 80000/447793\n",
            "processing test2015 data: 90000/447793\n",
            "processing test2015 data: 100000/447793\n",
            "processing test2015 data: 110000/447793\n",
            "processing test2015 data: 120000/447793\n",
            "processing test2015 data: 130000/447793\n",
            "processing test2015 data: 140000/447793\n",
            "processing test2015 data: 150000/447793\n",
            "processing test2015 data: 160000/447793\n",
            "processing test2015 data: 170000/447793\n",
            "processing test2015 data: 180000/447793\n",
            "processing test2015 data: 190000/447793\n",
            "processing test2015 data: 200000/447793\n",
            "processing test2015 data: 210000/447793\n",
            "processing test2015 data: 220000/447793\n",
            "processing test2015 data: 230000/447793\n",
            "processing test2015 data: 240000/447793\n",
            "processing test2015 data: 250000/447793\n",
            "processing test2015 data: 260000/447793\n",
            "processing test2015 data: 270000/447793\n",
            "processing test2015 data: 280000/447793\n",
            "processing test2015 data: 290000/447793\n",
            "processing test2015 data: 300000/447793\n",
            "processing test2015 data: 310000/447793\n",
            "processing test2015 data: 320000/447793\n",
            "processing test2015 data: 330000/447793\n",
            "processing test2015 data: 340000/447793\n",
            "processing test2015 data: 350000/447793\n",
            "processing test2015 data: 360000/447793\n",
            "processing test2015 data: 370000/447793\n",
            "processing test2015 data: 380000/447793\n",
            "processing test2015 data: 390000/447793\n",
            "processing test2015 data: 400000/447793\n",
            "processing test2015 data: 410000/447793\n",
            "processing test2015 data: 420000/447793\n",
            "processing test2015 data: 430000/447793\n",
            "processing test2015 data: 440000/447793\n",
            "total 0 out of 447793 answers are <unk>\n",
            "val\n",
            "processing val2014 data: 10000/214354\n",
            "processing val2014 data: 20000/214354\n",
            "processing val2014 data: 30000/214354\n",
            "processing val2014 data: 40000/214354\n",
            "processing val2014 data: 50000/214354\n",
            "processing val2014 data: 60000/214354\n",
            "processing val2014 data: 70000/214354\n",
            "processing val2014 data: 80000/214354\n",
            "processing val2014 data: 90000/214354\n",
            "processing val2014 data: 100000/214354\n",
            "processing val2014 data: 110000/214354\n",
            "processing val2014 data: 120000/214354\n",
            "processing val2014 data: 130000/214354\n",
            "processing val2014 data: 140000/214354\n",
            "processing val2014 data: 150000/214354\n",
            "processing val2014 data: 160000/214354\n",
            "processing val2014 data: 170000/214354\n",
            "processing val2014 data: 180000/214354\n",
            "processing val2014 data: 190000/214354\n",
            "processing val2014 data: 200000/214354\n",
            "processing val2014 data: 210000/214354\n",
            "total 27454 out of 214354 answers are <unk>\n",
            "train\n",
            "processing train2014 data: 10000/443757\n",
            "processing train2014 data: 20000/443757\n",
            "processing train2014 data: 30000/443757\n",
            "processing train2014 data: 40000/443757\n",
            "processing train2014 data: 50000/443757\n",
            "processing train2014 data: 60000/443757\n",
            "processing train2014 data: 70000/443757\n",
            "processing train2014 data: 80000/443757\n",
            "processing train2014 data: 90000/443757\n",
            "processing train2014 data: 100000/443757\n",
            "processing train2014 data: 110000/443757\n",
            "processing train2014 data: 120000/443757\n",
            "processing train2014 data: 130000/443757\n",
            "processing train2014 data: 140000/443757\n",
            "processing train2014 data: 150000/443757\n",
            "processing train2014 data: 160000/443757\n",
            "processing train2014 data: 170000/443757\n",
            "processing train2014 data: 180000/443757\n",
            "processing train2014 data: 190000/443757\n",
            "processing train2014 data: 200000/443757\n",
            "processing train2014 data: 210000/443757\n",
            "processing train2014 data: 220000/443757\n",
            "processing train2014 data: 230000/443757\n",
            "processing train2014 data: 240000/443757\n",
            "processing train2014 data: 250000/443757\n",
            "processing train2014 data: 260000/443757\n",
            "processing train2014 data: 270000/443757\n",
            "processing train2014 data: 280000/443757\n",
            "processing train2014 data: 290000/443757\n",
            "processing train2014 data: 300000/443757\n",
            "processing train2014 data: 310000/443757\n",
            "processing train2014 data: 320000/443757\n",
            "processing train2014 data: 330000/443757\n",
            "processing train2014 data: 340000/443757\n",
            "processing train2014 data: 350000/443757\n",
            "processing train2014 data: 360000/443757\n",
            "processing train2014 data: 370000/443757\n",
            "processing train2014 data: 380000/443757\n",
            "processing train2014 data: 390000/443757\n",
            "processing train2014 data: 400000/443757\n",
            "processing train2014 data: 410000/443757\n",
            "processing train2014 data: 420000/443757\n",
            "processing train2014 data: 430000/443757\n",
            "processing train2014 data: 440000/443757\n",
            "total 55843 out of 443757 answers are <unk>\n",
            "[['COCO_train2014_000000458752.jpg', 'What is this photo taken looking through?', 'net'], ['COCO_train2014_000000458752.jpg', 'What position is this man playing?', 'pitcher'], ['COCO_train2014_000000458752.jpg', 'What color is the players shirt?', 'orange']]\n"
          ],
          "name": "stdout"
        }
      ]
    },
    {
      "cell_type": "code",
      "metadata": {
        "id": "P5reQROd4URa"
      },
      "source": [
        "for key, value in processed_data.items():\n",
        "        np.save(os.path.join(output_dir, f'{key}.npy'), np.array(value))"
      ],
      "execution_count": null,
      "outputs": []
    },
    {
      "cell_type": "code",
      "metadata": {
        "id": "BD4cvZOi7fBr",
        "colab": {
          "base_uri": "https://localhost:8080/"
        },
        "outputId": "cf0c4537-74fc-444f-a0d2-82607ea1371a"
      },
      "source": [
        "%cp -av \"/content/dataset/preprocessed/test-dev.npy\" \"/content/drive/MyDrive/VQA_preprocessed\"\n",
        "%cp -av \"/content/dataset/preprocessed/test.npy\" \"/content/drive/MyDrive/VQA_preprocessed\"\n",
        "%cp -av \"/content/dataset/preprocessed/train.npy\" \"/content/drive/MyDrive/VQA_preprocessed\"\n",
        "%cp -av \"/content/dataset/preprocessed/val.npy\" \"/content/drive/MyDrive/VQA_preprocessed\""
      ],
      "execution_count": null,
      "outputs": [
        {
          "output_type": "stream",
          "text": [
            "'/content/dataset/preprocessed/test-dev.npy' -> '/content/drive/MyDrive/VQA_preprocessed/test-dev.npy'\n",
            "'/content/dataset/preprocessed/test.npy' -> '/content/drive/MyDrive/VQA_preprocessed/test.npy'\n",
            "'/content/dataset/preprocessed/train.npy' -> '/content/drive/MyDrive/VQA_preprocessed/train.npy'\n",
            "'/content/dataset/preprocessed/val.npy' -> '/content/drive/MyDrive/VQA_preprocessed/val.npy'\n"
          ],
          "name": "stdout"
        }
      ]
    },
    {
      "cell_type": "code",
      "metadata": {
        "colab": {
          "base_uri": "https://localhost:8080/"
        },
        "id": "fjp1DM_Hr8Ht",
        "outputId": "ad13e7af-1029-41a9-edb2-bb34105be39a"
      },
      "source": [
        "%cp -av \"/content/dataset/preprocessed/Questions\" \"/content/drive/MyDrive/VQA_preprocessed/preprocessed\"\n",
        "%cp -av \"/content/dataset/preprocessed/Annotations\" \"/content/drive/MyDrive/VQA_preprocessed/preprocessed\""
      ],
      "execution_count": null,
      "outputs": [
        {
          "output_type": "stream",
          "text": [
            "'/content/dataset/preprocessed/Questions' -> '/content/drive/MyDrive/VQA_preprocessed/preprocessed/Questions'\n",
            "'/content/dataset/preprocessed/Questions/.ipynb_checkpoints' -> '/content/drive/MyDrive/VQA_preprocessed/preprocessed/Questions/.ipynb_checkpoints'\n",
            "'/content/dataset/preprocessed/Questions/question_vocabs.txt' -> '/content/drive/MyDrive/VQA_preprocessed/preprocessed/Questions/question_vocabs.txt'\n",
            "'/content/dataset/preprocessed/Annotations' -> '/content/drive/MyDrive/VQA_preprocessed/preprocessed/Annotations'\n",
            "'/content/dataset/preprocessed/Annotations/.ipynb_checkpoints' -> '/content/drive/MyDrive/VQA_preprocessed/preprocessed/Annotations/.ipynb_checkpoints'\n",
            "'/content/dataset/preprocessed/Annotations/annotation_vocabs.txt' -> '/content/drive/MyDrive/VQA_preprocessed/preprocessed/Annotations/annotation_vocabs.txt'\n"
          ],
          "name": "stdout"
        }
      ]
    }
  ]
}